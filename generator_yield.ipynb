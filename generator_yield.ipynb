{
  "nbformat": 4,
  "nbformat_minor": 0,
  "metadata": {
    "colab": {
      "provenance": [],
      "authorship_tag": "ABX9TyMMDMsVD8NXAUYaF/jBGp6X",
      "include_colab_link": true
    },
    "kernelspec": {
      "name": "python3",
      "display_name": "Python 3"
    },
    "language_info": {
      "name": "python"
    }
  },
  "cells": [
    {
      "cell_type": "markdown",
      "metadata": {
        "id": "view-in-github",
        "colab_type": "text"
      },
      "source": [
        "<a href=\"https://colab.research.google.com/github/sadafshahab12/list-comprehension-generator-function-OOP/blob/main/generator_yield.ipynb\" target=\"_parent\"><img src=\"https://colab.research.google.com/assets/colab-badge.svg\" alt=\"Open In Colab\"/></a>"
      ]
    },
    {
      "cell_type": "code",
      "execution_count": 1,
      "metadata": {
        "colab": {
          "base_uri": "https://localhost:8080/"
        },
        "id": "ONQPuIBGpp5b",
        "outputId": "e2489a64-6b12-4dcd-b367-03ee463dbc85"
      },
      "outputs": [
        {
          "output_type": "stream",
          "name": "stdout",
          "text": [
            "<generator object generate_natural at 0x7ea2081dcc80>\n",
            "1 2 3 4 5 "
          ]
        }
      ],
      "source": [
        "import time\n",
        "def generate_natural(n):\n",
        "  for i in range(1, n +1):\n",
        "    yield(i)\n",
        "\n",
        "natural_num = generate_natural(5)\n",
        "print(natural_num)\n",
        "for num in natural_num:\n",
        "  print(num , end=\" \", flush=True)\n",
        "  time.sleep(0.05)"
      ]
    },
    {
      "cell_type": "code",
      "source": [
        "\n",
        "def even_number(n):\n",
        "  for i in range(2, n +1):\n",
        "    if i % 2 == 0:\n",
        "      yield (i)\n",
        "\n",
        "for num in even_number(10):\n",
        "  print(num, end=\" \", flush=True)\n",
        "  time.sleep(0.05)\n"
      ],
      "metadata": {
        "colab": {
          "base_uri": "https://localhost:8080/"
        },
        "id": "Z9Q6HFYnAzP6",
        "outputId": "ac39cdc8-98c5-45a0-82ed-fa2652c56b4a"
      },
      "execution_count": 11,
      "outputs": [
        {
          "output_type": "stream",
          "name": "stdout",
          "text": [
            "2 4 6 8 10 "
          ]
        }
      ]
    },
    {
      "cell_type": "code",
      "source": [
        "def name(text):\n",
        "  for char in text:\n",
        "    yield char\n",
        "\n",
        "for char in name(\"Sadaf\"):\n",
        "  print(char, end=\"\" , flush=True)\n",
        "  time.sleep(0.10)\n"
      ],
      "metadata": {
        "colab": {
          "base_uri": "https://localhost:8080/"
        },
        "id": "YSq81LUTWO1V",
        "outputId": "9d214f7d-a22a-4aef-c3a3-2e2cf236e1c3"
      },
      "execution_count": 14,
      "outputs": [
        {
          "output_type": "stream",
          "name": "stdout",
          "text": [
            "Sadaf"
          ]
        }
      ]
    },
    {
      "cell_type": "code",
      "source": [
        "my_list = [10, 20, 30, 40, 50]\n",
        "\n",
        "def reverse_list():\n",
        "  for num in my_list[::-1]:\n",
        "    yield num #generator function\n",
        "\n",
        "\n",
        "print([num for num in reverse_list()])  #list comprehension\n"
      ],
      "metadata": {
        "colab": {
          "base_uri": "https://localhost:8080/"
        },
        "id": "Sj2fccXrevOn",
        "outputId": "d8a521b9-ac0f-4ae9-b109-b4502ce3d7ec"
      },
      "execution_count": 17,
      "outputs": [
        {
          "output_type": "stream",
          "name": "stdout",
          "text": [
            "[50, 40, 30, 20, 10]\n"
          ]
        }
      ]
    },
    {
      "cell_type": "code",
      "source": [
        "def count_down(n):\n",
        "  for num in range(n, 0 , -1):\n",
        "    yield num\n",
        "\n",
        "for num in count_down(20):\n",
        "  print(num)"
      ],
      "metadata": {
        "colab": {
          "base_uri": "https://localhost:8080/"
        },
        "id": "Vj2uDt95e9Pd",
        "outputId": "dd4a8d82-8473-4ce8-8372-ec5e77d5f9e0"
      },
      "execution_count": 18,
      "outputs": [
        {
          "output_type": "stream",
          "name": "stdout",
          "text": [
            "20\n",
            "19\n",
            "18\n",
            "17\n",
            "16\n",
            "15\n",
            "14\n",
            "13\n",
            "12\n",
            "11\n",
            "10\n",
            "9\n",
            "8\n",
            "7\n",
            "6\n",
            "5\n",
            "4\n",
            "3\n",
            "2\n",
            "1\n"
          ]
        }
      ]
    }
  ]
}