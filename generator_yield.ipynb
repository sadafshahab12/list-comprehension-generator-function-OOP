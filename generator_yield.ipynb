{
  "nbformat": 4,
  "nbformat_minor": 0,
  "metadata": {
    "colab": {
      "provenance": [],
      "authorship_tag": "ABX9TyNaY1LKVpt2YXU12/rbMm9G",
      "include_colab_link": true
    },
    "kernelspec": {
      "name": "python3",
      "display_name": "Python 3"
    },
    "language_info": {
      "name": "python"
    }
  },
  "cells": [
    {
      "cell_type": "markdown",
      "metadata": {
        "id": "view-in-github",
        "colab_type": "text"
      },
      "source": [
        "<a href=\"https://colab.research.google.com/github/sadafshahab12/list-comprehension-generator-function-OOP/blob/main/generator_yield.ipynb\" target=\"_parent\"><img src=\"https://colab.research.google.com/assets/colab-badge.svg\" alt=\"Open In Colab\"/></a>"
      ]
    },
    {
      "cell_type": "code",
      "execution_count": 1,
      "metadata": {
        "colab": {
          "base_uri": "https://localhost:8080/"
        },
        "id": "ONQPuIBGpp5b",
        "outputId": "e2489a64-6b12-4dcd-b367-03ee463dbc85"
      },
      "outputs": [
        {
          "output_type": "stream",
          "name": "stdout",
          "text": [
            "<generator object generate_natural at 0x7ea2081dcc80>\n",
            "1 2 3 4 5 "
          ]
        }
      ],
      "source": [
        "import time\n",
        "def generate_natural(n):\n",
        "  for i in range(1, n +1):\n",
        "    yield(i)\n",
        "\n",
        "natural_num = generate_natural(5)\n",
        "print(natural_num)\n",
        "for num in natural_num:\n",
        "  print(num , end=\" \", flush=True)\n",
        "  time.sleep(0.05)"
      ]
    },
    {
      "cell_type": "code",
      "source": [
        "\n",
        "def even_number(n):\n",
        "  for i in range(2, n +1):\n",
        "    if i % 2 == 0:\n",
        "      yield (i)\n",
        "\n",
        "for num in even_number(10):\n",
        "  print(num, end=\" \", flush=True)\n",
        "  time.sleep(0.05)\n"
      ],
      "metadata": {
        "colab": {
          "base_uri": "https://localhost:8080/"
        },
        "id": "Z9Q6HFYnAzP6",
        "outputId": "ac39cdc8-98c5-45a0-82ed-fa2652c56b4a"
      },
      "execution_count": 11,
      "outputs": [
        {
          "output_type": "stream",
          "name": "stdout",
          "text": [
            "2 4 6 8 10 "
          ]
        }
      ]
    },
    {
      "cell_type": "code",
      "source": [
        "def name(text):\n",
        "  for char in text:\n",
        "    yield char\n",
        "\n",
        "for char in name(\"Sadaf\"):\n",
        "  print(char, end=\"\" , flush=True)\n",
        "  time.sleep(0.10)\n"
      ],
      "metadata": {
        "colab": {
          "base_uri": "https://localhost:8080/"
        },
        "id": "YSq81LUTWO1V",
        "outputId": "9d214f7d-a22a-4aef-c3a3-2e2cf236e1c3"
      },
      "execution_count": 14,
      "outputs": [
        {
          "output_type": "stream",
          "name": "stdout",
          "text": [
            "Sadaf"
          ]
        }
      ]
    }
  ]
}