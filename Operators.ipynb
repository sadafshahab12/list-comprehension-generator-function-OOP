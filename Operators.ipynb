{
  "nbformat": 4,
  "nbformat_minor": 0,
  "metadata": {
    "colab": {
      "provenance": [],
      "authorship_tag": "ABX9TyOFsXRcHIJJiHyZGi4ZWjGh",
      "include_colab_link": true
    },
    "kernelspec": {
      "name": "python3",
      "display_name": "Python 3"
    },
    "language_info": {
      "name": "python"
    }
  },
  "cells": [
    {
      "cell_type": "markdown",
      "metadata": {
        "id": "view-in-github",
        "colab_type": "text"
      },
      "source": [
        "<a href=\"https://colab.research.google.com/github/sadafshahab12/list-comprehension-generator-function-OOP/blob/main/Operators.ipynb\" target=\"_parent\"><img src=\"https://colab.research.google.com/assets/colab-badge.svg\" alt=\"Open In Colab\"/></a>"
      ]
    },
    {
      "cell_type": "code",
      "execution_count": null,
      "metadata": {
        "colab": {
          "base_uri": "https://localhost:8080/"
        },
        "id": "8eU5IYSzFWYn",
        "outputId": "6efd2379-b214-47bb-e1ff-45154cbfd096"
      },
      "outputs": [
        {
          "output_type": "stream",
          "name": "stdout",
          "text": [
            "-5\n"
          ]
        }
      ],
      "source": [
        "#unary operator\n",
        "x = 5\n",
        "y = -x\n",
        "print(y)"
      ]
    },
    {
      "cell_type": "code",
      "source": [
        "a = True\n",
        "b = not a\n",
        "print(b)"
      ],
      "metadata": {
        "colab": {
          "base_uri": "https://localhost:8080/"
        },
        "id": "W6wrU7Y5GATs",
        "outputId": "f22bf9aa-3940-44d7-d5b7-7741524a3a9e"
      },
      "execution_count": null,
      "outputs": [
        {
          "output_type": "stream",
          "name": "stdout",
          "text": [
            "False\n"
          ]
        }
      ]
    },
    {
      "cell_type": "code",
      "source": [
        "c = 5\n",
        "d = ~ c\n",
        "print(d)\n",
        "print(bin(d))"
      ],
      "metadata": {
        "colab": {
          "base_uri": "https://localhost:8080/"
        },
        "id": "dXApd6nuGOdL",
        "outputId": "65deee67-395c-4ba9-9b8b-ef3b78d51a15"
      },
      "execution_count": null,
      "outputs": [
        {
          "output_type": "stream",
          "name": "stdout",
          "text": [
            "-6\n",
            "-0b110\n"
          ]
        }
      ]
    },
    {
      "cell_type": "code",
      "source": [
        "#Floor division\n",
        "j = 5\n",
        "k = 3\n",
        "floor_division = j // k\n",
        "print(not(j > k))\n",
        "print(floor_division)"
      ],
      "metadata": {
        "colab": {
          "base_uri": "https://localhost:8080/"
        },
        "id": "3TOb9trSJP9o",
        "outputId": "e6133e60-13de-4cfe-816d-9a63ff407b90"
      },
      "execution_count": null,
      "outputs": [
        {
          "output_type": "stream",
          "name": "stdout",
          "text": [
            "False\n",
            "1\n"
          ]
        }
      ]
    },
    {
      "cell_type": "code",
      "source": [
        "a = [1, 2, 3]\n",
        "b = [1, 2, 3]\n",
        "print(a is b)\n",
        "print(a == b)\n",
        "print(a is not b)"
      ],
      "metadata": {
        "colab": {
          "base_uri": "https://localhost:8080/"
        },
        "id": "hnJ4uW2rH0nq",
        "outputId": "b9181dbe-a482-43fc-ec6a-c15561d762f8"
      },
      "execution_count": null,
      "outputs": [
        {
          "output_type": "stream",
          "name": "stdout",
          "text": [
            "False\n",
            "True\n",
            "True\n"
          ]
        }
      ]
    },
    {
      "cell_type": "code",
      "source": [
        "my_list = [1, 2, 3, 4, 5]\n",
        "print(4 not in my_list)"
      ],
      "metadata": {
        "colab": {
          "base_uri": "https://localhost:8080/"
        },
        "id": "sCFfPnMGRDlv",
        "outputId": "715a2164-16cd-448c-af64-148c818a44c7"
      },
      "execution_count": null,
      "outputs": [
        {
          "output_type": "stream",
          "name": "stdout",
          "text": [
            "False\n"
          ]
        }
      ]
    },
    {
      "cell_type": "code",
      "source": [
        "import keyword\n",
        "print(keyword.kwlist)"
      ],
      "metadata": {
        "colab": {
          "base_uri": "https://localhost:8080/"
        },
        "id": "5HhDlb_cR7Qn",
        "outputId": "f832f862-94d5-407d-955d-4af79725e930"
      },
      "execution_count": null,
      "outputs": [
        {
          "output_type": "stream",
          "name": "stdout",
          "text": [
            "['False', 'None', 'True', 'and', 'as', 'assert', 'async', 'await', 'break', 'class', 'continue', 'def', 'del', 'elif', 'else', 'except', 'finally', 'for', 'from', 'global', 'if', 'import', 'in', 'is', 'lambda', 'nonlocal', 'not', 'or', 'pass', 'raise', 'return', 'try', 'while', 'with', 'yield']\n"
          ]
        }
      ]
    },
    {
      "cell_type": "code",
      "source": [
        "print(2 + 3 * 4)\n",
        "print(\"Na\" * 4 + \" Batman!\")"
      ],
      "metadata": {
        "colab": {
          "base_uri": "https://localhost:8080/"
        },
        "id": "hYJgeQbn0cYW",
        "outputId": "7350738b-3934-45b5-8740-1bc55902efba"
      },
      "execution_count": null,
      "outputs": [
        {
          "output_type": "stream",
          "name": "stdout",
          "text": [
            "14\n",
            "NaNaNaNa Batman!\n"
          ]
        }
      ]
    },
    {
      "cell_type": "code",
      "source": [
        "x = 22\n",
        "print(bin(x))\n",
        "print(format(x, \"b\"))"
      ],
      "metadata": {
        "colab": {
          "base_uri": "https://localhost:8080/"
        },
        "id": "tJkiQ0sI6n5j",
        "outputId": "dec9e91b-5fed-4b3f-f3fb-af76c1c11488"
      },
      "execution_count": null,
      "outputs": [
        {
          "output_type": "stream",
          "name": "stdout",
          "text": [
            "0b10110\n",
            "10110\n"
          ]
        }
      ]
    },
    {
      "cell_type": "code",
      "source": [
        "name = \"alice\"\n",
        "age = 22\n",
        "print(\"{} is {} years old.\".format(name, age))"
      ],
      "metadata": {
        "colab": {
          "base_uri": "https://localhost:8080/"
        },
        "id": "XGJr0ksa7khT",
        "outputId": "8c73bac3-367a-4781-b278-1996845d11fc"
      },
      "execution_count": null,
      "outputs": [
        {
          "output_type": "stream",
          "name": "stdout",
          "text": [
            "alice is 22 years old.\n"
          ]
        }
      ]
    },
    {
      "cell_type": "code",
      "source": [
        "pi = 3.14159265\n",
        "print(\"Pi is approximately {:.2f}\".format(pi))"
      ],
      "metadata": {
        "colab": {
          "base_uri": "https://localhost:8080/"
        },
        "id": "htNmEB9J8nqK",
        "outputId": "a5030312-6f62-4af5-fe53-205cd6fc5d3e"
      },
      "execution_count": null,
      "outputs": [
        {
          "output_type": "stream",
          "name": "stdout",
          "text": [
            "Pi is approximately 3.14\n"
          ]
        }
      ]
    },
    {
      "cell_type": "code",
      "source": [
        "num = int(input(\"Enter a number:\"))\n",
        "if num >= 10 and num <= 20:\n",
        "  print(True)\n",
        "else:\n",
        "  print(False)\n",
        "\n"
      ],
      "metadata": {
        "colab": {
          "base_uri": "https://localhost:8080/"
        },
        "id": "S9yY1IjB-qc4",
        "outputId": "2d4839bd-e22f-4350-d438-48e64960ace1"
      },
      "execution_count": null,
      "outputs": [
        {
          "output_type": "stream",
          "name": "stdout",
          "text": [
            "Enter a number:20\n",
            "True\n"
          ]
        }
      ]
    },
    {
      "cell_type": "code",
      "source": [
        "num1 = int(input(\"Enter first number:\"))\n",
        "num2 = int(input(\"Enter second number:\"))\n",
        "if num1 > num2 * 2:\n",
        "  print(f\"{num1} is greater than {num2} = {num2 * 2}\")\n",
        "else:\n",
        "  print(f\"{num1} is not greater than {num2} = {num2 * 2}\")"
      ],
      "metadata": {
        "colab": {
          "base_uri": "https://localhost:8080/"
        },
        "id": "xt9ye_ex_SLe",
        "outputId": "bfcb34be-f646-4493-a39e-f16b466fb582"
      },
      "execution_count": null,
      "outputs": [
        {
          "output_type": "stream",
          "name": "stdout",
          "text": [
            "Enter first number:20\n",
            "Enter second number:9\n",
            "20 is greater than 9 = 18\n"
          ]
        }
      ]
    },
    {
      "cell_type": "code",
      "source": [
        "program = \"Python\"\n",
        "user_input = input(\"Enter Python here:\")\n",
        "if user_input != program:\n",
        "  print(\"Wrong\")\n",
        "else:\n",
        "  print(\"Correct\")"
      ],
      "metadata": {
        "colab": {
          "base_uri": "https://localhost:8080/"
        },
        "id": "39P0keyOAF64",
        "outputId": "f289ba4b-363a-4b65-b44e-d3a85e591943"
      },
      "execution_count": null,
      "outputs": [
        {
          "output_type": "stream",
          "name": "stdout",
          "text": [
            "Enter Python here:Python\n",
            "Correct\n"
          ]
        }
      ]
    },
    {
      "cell_type": "code",
      "source": [
        "x = 15\n",
        "print(10 <= x <= 20)  # True\n"
      ],
      "metadata": {
        "colab": {
          "base_uri": "https://localhost:8080/"
        },
        "id": "EnLWEHEZAm4v",
        "outputId": "ba97f236-9087-4f53-8965-70dc8ab9101c"
      },
      "execution_count": null,
      "outputs": [
        {
          "output_type": "stream",
          "name": "stdout",
          "text": [
            "True\n"
          ]
        }
      ]
    },
    {
      "cell_type": "code",
      "source": [
        "print(\"apple\" > \"banana\")  # True\n"
      ],
      "metadata": {
        "colab": {
          "base_uri": "https://localhost:8080/"
        },
        "id": "NGcRbqdKBXk-",
        "outputId": "033853f4-0e25-4e82-aeb9-043886f8a3ae"
      },
      "execution_count": null,
      "outputs": [
        {
          "output_type": "stream",
          "name": "stdout",
          "text": [
            "False\n"
          ]
        }
      ]
    },
    {
      "cell_type": "code",
      "source": [
        "data  = (input(\"Enter a number: \"))\n",
        "n = len(data)\n",
        "if n > 10:\n",
        "  print(\"Too Long\")\n",
        "else:\n",
        "  print(\"Too Short\")"
      ],
      "metadata": {
        "colab": {
          "base_uri": "https://localhost:8080/"
        },
        "id": "9W3fjEuhWe1h",
        "outputId": "bb615ccf-a615-451f-c3eb-8696c60bf430"
      },
      "execution_count": 7,
      "outputs": [
        {
          "output_type": "stream",
          "name": "stdout",
          "text": [
            "Enter a number: 2222222\n",
            "Too Short\n"
          ]
        }
      ]
    },
    {
      "cell_type": "code",
      "source": [
        "data1  = (input(\"Enter a number: \"))\n",
        "\n",
        "if (n := len(data1)) > 10:\n",
        "  print(\"Too Long\")\n",
        "else:\n",
        "  print(\"Too Short\")"
      ],
      "metadata": {
        "colab": {
          "base_uri": "https://localhost:8080/"
        },
        "id": "Y0fiO6RxW9AJ",
        "outputId": "ff94261a-1cb9-4d38-c16f-6843fab9fe27"
      },
      "execution_count": 8,
      "outputs": [
        {
          "output_type": "stream",
          "name": "stdout",
          "text": [
            "Enter a number: hhhhhhhhhhhhhhhhhhhhh\n",
            "Too Long\n"
          ]
        }
      ]
    },
    {
      "cell_type": "code",
      "source": [
        "a: list = [1, 2, 3]\n",
        "b: list = [1, 2, 3]\n",
        "c: list = a\n",
        "print(a is c)"
      ],
      "metadata": {
        "colab": {
          "base_uri": "https://localhost:8080/"
        },
        "id": "rl3kOq5oZSh_",
        "outputId": "83e2ca76-7946-484a-e642-bbb344bb4394"
      },
      "execution_count": 11,
      "outputs": [
        {
          "output_type": "stream",
          "name": "stdout",
          "text": [
            "True\n"
          ]
        }
      ]
    },
    {
      "cell_type": "code",
      "source": [
        "x = 20\n",
        "print(x)\n",
        "del x\n",
        "print(x)"
      ],
      "metadata": {
        "colab": {
          "base_uri": "https://localhost:8080/",
          "height": 199
        },
        "id": "SIS6MFG4bFvW",
        "outputId": "3a682cd8-b937-4b90-cde7-f998fda178f9"
      },
      "execution_count": 15,
      "outputs": [
        {
          "output_type": "stream",
          "name": "stdout",
          "text": [
            "20\n"
          ]
        },
        {
          "output_type": "error",
          "ename": "NameError",
          "evalue": "name 'x' is not defined",
          "traceback": [
            "\u001b[0;31m---------------------------------------------------------------------------\u001b[0m",
            "\u001b[0;31mNameError\u001b[0m                                 Traceback (most recent call last)",
            "\u001b[0;32m<ipython-input-15-8479500e8662>\u001b[0m in \u001b[0;36m<cell line: 0>\u001b[0;34m()\u001b[0m\n\u001b[1;32m      2\u001b[0m \u001b[0mprint\u001b[0m\u001b[0;34m(\u001b[0m\u001b[0mx\u001b[0m\u001b[0;34m)\u001b[0m\u001b[0;34m\u001b[0m\u001b[0;34m\u001b[0m\u001b[0m\n\u001b[1;32m      3\u001b[0m \u001b[0;32mdel\u001b[0m \u001b[0mx\u001b[0m\u001b[0;34m\u001b[0m\u001b[0;34m\u001b[0m\u001b[0m\n\u001b[0;32m----> 4\u001b[0;31m \u001b[0mprint\u001b[0m\u001b[0;34m(\u001b[0m\u001b[0mx\u001b[0m\u001b[0;34m)\u001b[0m\u001b[0;34m\u001b[0m\u001b[0;34m\u001b[0m\u001b[0m\n\u001b[0m",
            "\u001b[0;31mNameError\u001b[0m: name 'x' is not defined"
          ]
        }
      ]
    }
  ]
}