{
  "nbformat": 4,
  "nbformat_minor": 0,
  "metadata": {
    "colab": {
      "provenance": [],
      "authorship_tag": "ABX9TyMA/arZxrhpiAWhG1AzV1jn",
      "include_colab_link": true
    },
    "kernelspec": {
      "name": "python3",
      "display_name": "Python 3"
    },
    "language_info": {
      "name": "python"
    }
  },
  "cells": [
    {
      "cell_type": "markdown",
      "metadata": {
        "id": "view-in-github",
        "colab_type": "text"
      },
      "source": [
        "<a href=\"https://colab.research.google.com/github/sadafshahab12/list-comprehension-generator-function-OOP/blob/main/Today_class.ipynb\" target=\"_parent\"><img src=\"https://colab.research.google.com/assets/colab-badge.svg\" alt=\"Open In Colab\"/></a>"
      ]
    },
    {
      "cell_type": "code",
      "execution_count": 10,
      "metadata": {
        "colab": {
          "base_uri": "https://localhost:8080/"
        },
        "id": "1oo5TzHej8az",
        "outputId": "d3609a06-e867-47d8-cf81-5b834cfccbe2"
      },
      "outputs": [
        {
          "output_type": "stream",
          "name": "stdout",
          "text": [
            "[4, 16, 64, 144, 256]\n"
          ]
        }
      ],
      "source": [
        "nums = [2,4,8,12,16]\n",
        "square = [x**2 for x in nums]\n",
        "print(square)\n"
      ]
    },
    {
      "cell_type": "code",
      "source": [
        "nums = [2,4,8,12,16]\n",
        "def square():\n",
        "  for num in nums:\n",
        "    print(num **2)\n",
        "square()"
      ],
      "metadata": {
        "colab": {
          "base_uri": "https://localhost:8080/"
        },
        "id": "YnRElqonlC8E",
        "outputId": "949abe49-4bd8-4d08-9ee3-e08e3855676c"
      },
      "execution_count": 11,
      "outputs": [
        {
          "output_type": "stream",
          "name": "stdout",
          "text": [
            "4\n",
            "16\n",
            "64\n",
            "144\n",
            "256\n"
          ]
        }
      ]
    },
    {
      "cell_type": "code",
      "source": [
        "nums = [2,4,8,12,16]\n",
        "\n",
        "def squared_num ():\n",
        "  result = []\n",
        "  for num in nums:\n",
        "    result.append(num ** 2)\n",
        "  return result\n",
        "squared = squared_num()\n",
        "print(squared)"
      ],
      "metadata": {
        "colab": {
          "base_uri": "https://localhost:8080/"
        },
        "id": "Kf2A3DqxloEU",
        "outputId": "5355f9b0-d85c-47ec-c45a-a31e8dda2294"
      },
      "execution_count": 19,
      "outputs": [
        {
          "output_type": "stream",
          "name": "stdout",
          "text": [
            "[4, 16, 64, 144, 256]\n"
          ]
        }
      ]
    }
  ]
}