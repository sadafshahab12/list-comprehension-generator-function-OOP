{
  "nbformat": 4,
  "nbformat_minor": 0,
  "metadata": {
    "colab": {
      "provenance": [],
      "authorship_tag": "ABX9TyMbYzW/OuCX3fux4/rC8gkz",
      "include_colab_link": true
    },
    "kernelspec": {
      "name": "python3",
      "display_name": "Python 3"
    },
    "language_info": {
      "name": "python"
    }
  },
  "cells": [
    {
      "cell_type": "markdown",
      "metadata": {
        "id": "view-in-github",
        "colab_type": "text"
      },
      "source": [
        "<a href=\"https://colab.research.google.com/github/sadafshahab12/list-comprehension-generator-function-OOP/blob/main/Today_class.ipynb\" target=\"_parent\"><img src=\"https://colab.research.google.com/assets/colab-badge.svg\" alt=\"Open In Colab\"/></a>"
      ]
    },
    {
      "cell_type": "markdown",
      "source": [
        "## **List Comprehension**"
      ],
      "metadata": {
        "id": "aqzqr70Kns96"
      }
    },
    {
      "cell_type": "code",
      "execution_count": 10,
      "metadata": {
        "colab": {
          "base_uri": "https://localhost:8080/"
        },
        "id": "1oo5TzHej8az",
        "outputId": "d3609a06-e867-47d8-cf81-5b834cfccbe2"
      },
      "outputs": [
        {
          "output_type": "stream",
          "name": "stdout",
          "text": [
            "[4, 16, 64, 144, 256]\n"
          ]
        }
      ],
      "source": [
        "nums = [2,4,8,12,16]\n",
        "square = [x**2 for x in nums] #list comprehension\n",
        "print(square)\n"
      ]
    },
    {
      "cell_type": "markdown",
      "source": [
        "### **My class code**"
      ],
      "metadata": {
        "id": "m7vli9csn5ER"
      }
    },
    {
      "cell_type": "code",
      "source": [
        "nums = [2,4,8,12,16]\n",
        "def square():\n",
        "  for num in nums:\n",
        "    print(num **2)\n",
        "square()"
      ],
      "metadata": {
        "colab": {
          "base_uri": "https://localhost:8080/"
        },
        "id": "YnRElqonlC8E",
        "outputId": "c9aea080-2776-4a5a-a1c1-286e9f34c352"
      },
      "execution_count": 21,
      "outputs": [
        {
          "output_type": "stream",
          "name": "stdout",
          "text": [
            "4\n",
            "16\n",
            "64\n",
            "144\n",
            "256\n"
          ]
        }
      ]
    },
    {
      "cell_type": "markdown",
      "source": [
        "### **Correct my code**"
      ],
      "metadata": {
        "id": "W9uVfMCsoGER"
      }
    },
    {
      "cell_type": "code",
      "source": [
        "nums = [2,4,8,12,16]\n",
        "\n",
        "def squared_num ():\n",
        "  result = []\n",
        "  for num in nums:\n",
        "    result.append(num ** 2)\n",
        "  return result\n",
        "squared = squared_num()\n",
        "print(squared)"
      ],
      "metadata": {
        "colab": {
          "base_uri": "https://localhost:8080/"
        },
        "id": "Kf2A3DqxloEU",
        "outputId": "5355f9b0-d85c-47ec-c45a-a31e8dda2294"
      },
      "execution_count": 19,
      "outputs": [
        {
          "output_type": "stream",
          "name": "stdout",
          "text": [
            "[4, 16, 64, 144, 256]\n"
          ]
        }
      ]
    },
    {
      "cell_type": "markdown",
      "source": [
        "# **Generator Function**"
      ],
      "metadata": {
        "id": "pahmJSELoMGJ"
      }
    },
    {
      "cell_type": "code",
      "source": [
        "def greet():\n",
        "  yield \"Hello\"  #yield pause function execution, for resume it we use next function\n",
        "  yield \"World\"\n",
        "\n",
        "# next(greet())  due to direct using of next it is just returning hello , not world.\n",
        "# next(greet()) for printing both we store greet into a variable\n",
        "message = greet()\n",
        "print(next(message))\n",
        "print(next(message))\n"
      ],
      "metadata": {
        "colab": {
          "base_uri": "https://localhost:8080/"
        },
        "id": "5mlQF390oPSJ",
        "outputId": "9d73710e-c895-422e-b06d-918aa3766363"
      },
      "execution_count": 26,
      "outputs": [
        {
          "output_type": "stream",
          "name": "stdout",
          "text": [
            "Hello\n",
            "World\n"
          ]
        }
      ]
    },
    {
      "cell_type": "code",
      "source": [
        "import time\n",
        "def chatbot(text):\n",
        "  for char in text:\n",
        "    yield char\n",
        "\n",
        "#loop on function\n",
        "for char in chatbot(\"Hello World......\"):\n",
        "  print(char , end=\"\" , flush=True)\n",
        "  time.sleep(0.04)\n"
      ],
      "metadata": {
        "colab": {
          "base_uri": "https://localhost:8080/"
        },
        "id": "7eIgYKzxpT0Q",
        "outputId": "1a1cca9d-f2c4-4d43-9daf-3f86975a0d51"
      },
      "execution_count": 34,
      "outputs": [
        {
          "output_type": "stream",
          "name": "stdout",
          "text": [
            "Hello World......"
          ]
        }
      ]
    },
    {
      "cell_type": "markdown",
      "source": [
        "## **Object Oriented Programming**"
      ],
      "metadata": {
        "id": "VgBTa3RSqfZO"
      }
    },
    {
      "cell_type": "code",
      "source": [
        "class Student():\n",
        "  def __init__(self, roll, name = \"sadaf\"):\n",
        "    self.name = name\n",
        "    self.roll_num = roll\n",
        "\n",
        "s1 = Student(roll=4)\n",
        "print(s1.name)  # attribute error occur if we do not use self when making our class\n",
        "print(s1.roll_num)"
      ],
      "metadata": {
        "colab": {
          "base_uri": "https://localhost:8080/"
        },
        "id": "yb7AdBT5qjB2",
        "outputId": "7f32a231-36c4-4d58-ebca-519e4f7ef392"
      },
      "execution_count": 49,
      "outputs": [
        {
          "output_type": "stream",
          "name": "stdout",
          "text": [
            "sadaf\n",
            "4\n"
          ]
        }
      ]
    }
  ]
}