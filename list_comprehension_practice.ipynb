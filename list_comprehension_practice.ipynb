{
  "nbformat": 4,
  "nbformat_minor": 0,
  "metadata": {
    "colab": {
      "provenance": [],
      "authorship_tag": "ABX9TyN98XodZQz9f8CKo8qWZ6lS",
      "include_colab_link": true
    },
    "kernelspec": {
      "name": "python3",
      "display_name": "Python 3"
    },
    "language_info": {
      "name": "python"
    }
  },
  "cells": [
    {
      "cell_type": "markdown",
      "metadata": {
        "id": "view-in-github",
        "colab_type": "text"
      },
      "source": [
        "<a href=\"https://colab.research.google.com/github/sadafshahab12/list-comprehension-generator-function-OOP/blob/main/list_comprehension_practice.ipynb\" target=\"_parent\"><img src=\"https://colab.research.google.com/assets/colab-badge.svg\" alt=\"Open In Colab\"/></a>"
      ]
    },
    {
      "cell_type": "markdown",
      "source": [
        "### 🔁 Basic Loop Practice\n",
        "Print numbers 1 to 10 using a for loop.\n",
        "\n",
        "Print the square of each number from 1 to 10.\n",
        "\n",
        "Print all even numbers from 1 to 20.\n",
        "\n",
        "Create a list of numbers from 1 to 100 that are divisible by 7.\n",
        "\n",
        "Print each character in the string \"Python\".\n",
        "\n",
        "### 📋 List Comprehension Practice\n",
        "Create a list of squares from 1 to 20 using list comprehension.\n",
        "\n",
        "Make a list of all the vowels in \"List Comprehension is Cool\" using comprehension.\n",
        "\n",
        "From a list of numbers [12, 5, 8, 130, 44], make a new list that contains only numbers greater than 10.\n",
        "\n",
        "Create a list of all even numbers between 1 and 100 using list comprehension.\n",
        "\n",
        "Convert a list of temperatures from Celsius to Fahrenheit.\n",
        "Example: temps_c = [0, 20, 30, 40] → temps_f = [32.0, 68.0, 86.0, 104.0]\n",
        "\n",
        "### 🧠 Advanced List Comprehension\n",
        "Flatten a 2D list using a list comprehension.\n",
        "Example: [[1, 2], [3, 4]] → [1, 2, 3, 4]\n",
        "\n",
        "Filter and square only the odd numbers from 1 to 20.\n",
        "\n",
        "Given a list of words, return a list of the lengths of words greater than 3 characters.\n",
        "\n",
        "Given a sentence, return all words that start with a vowel.\n",
        "\n",
        "### 🗂️ Dictionary Comprehension Practice\n",
        "Create a dictionary from two lists:\n",
        "\n",
        "keys = ['a', 'b', 'c']\n",
        "values = [1, 2, 3]\n",
        "→ {'a': 1, 'b': 2, 'c': 3}\n",
        "Swap keys and values in a dictionary.\n",
        "Example: {'a': 1, 'b': 2} → {1: 'a', 2: 'b'}\n",
        "\n",
        "Create a dictionary of numbers and their squares for numbers 1–10.\n",
        "\n",
        "Filter a dictionary to keep only items where the value is even.\n",
        "\n",
        "Create a dictionary from a string with letters as keys and their frequencies as values.\n",
        "\n"
      ],
      "metadata": {
        "id": "OwmrQybIkvSE"
      }
    },
    {
      "cell_type": "code",
      "execution_count": 11,
      "metadata": {
        "colab": {
          "base_uri": "https://localhost:8080/"
        },
        "id": "XXb0oQIWt7ZB",
        "outputId": "4e57187c-7b3e-410d-9f35-0bf1cbfbf3e1"
      },
      "outputs": [
        {
          "output_type": "stream",
          "name": "stdout",
          "text": [
            "1 2 3 4 5 6 7 8 9 10 "
          ]
        }
      ],
      "source": [
        "for x in range(0,10):\n",
        "  print (x + 1  , end=\" \")"
      ]
    },
    {
      "cell_type": "code",
      "source": [
        "for x in range (0 , 10):\n",
        "  print((x+1) ** 2,end=\" \")"
      ],
      "metadata": {
        "colab": {
          "base_uri": "https://localhost:8080/"
        },
        "id": "Ayoad-STuVii",
        "outputId": "477fc497-73ed-409d-bdc2-cdb941c82c39"
      },
      "execution_count": 15,
      "outputs": [
        {
          "output_type": "stream",
          "name": "stdout",
          "text": [
            "1 4 9 16 25 36 49 64 81 100 "
          ]
        }
      ]
    },
    {
      "cell_type": "code",
      "source": [
        "squared = [(x + 1) ** 2 for x in range(0 , 10)]\n",
        "print(squared)"
      ],
      "metadata": {
        "colab": {
          "base_uri": "https://localhost:8080/"
        },
        "id": "_ExagoD4usMa",
        "outputId": "5cc77926-e265-414c-97a2-76de7b1feca7"
      },
      "execution_count": 18,
      "outputs": [
        {
          "output_type": "stream",
          "name": "stdout",
          "text": [
            "[1, 4, 9, 16, 25, 36, 49, 64, 81, 100]\n"
          ]
        }
      ]
    },
    {
      "cell_type": "code",
      "source": [
        "for x in range(0 , 21):\n",
        "  if x % 2 == 0:\n",
        "    print(x , end=\" \")\n",
        "\n",
        "even_num = [num for num in range(0 , 21) if num % 2 == 0]\n",
        "print(f\"Even Number: {even_num}\")"
      ],
      "metadata": {
        "colab": {
          "base_uri": "https://localhost:8080/"
        },
        "id": "0zhIVUY6vCNS",
        "outputId": "f21f66ad-6cfa-407d-c53e-d6dac9ac37d2"
      },
      "execution_count": 38,
      "outputs": [
        {
          "output_type": "stream",
          "name": "stdout",
          "text": [
            "0 2 4 6 8 10 12 14 16 18 20 Even Number: [0, 2, 4, 6, 8, 10, 12, 14, 16, 18, 20]\n"
          ]
        }
      ]
    },
    {
      "cell_type": "code",
      "source": [
        "for num in range(0 , 101):\n",
        "  if num % 7 == 0:\n",
        "    print(num, end=\" \")"
      ],
      "metadata": {
        "colab": {
          "base_uri": "https://localhost:8080/"
        },
        "id": "8StNc2m_wJvw",
        "outputId": "368c6935-2032-42d7-8ed7-f450b1197fc1"
      },
      "execution_count": 30,
      "outputs": [
        {
          "output_type": "stream",
          "name": "stdout",
          "text": [
            "0 7 14 21 28 35 42 49 56 63 70 77 84 91 98 "
          ]
        }
      ]
    },
    {
      "cell_type": "code",
      "source": [
        "name = \"Python\"\n",
        "for char in name:\n",
        "  print(char , end=\" \")"
      ],
      "metadata": {
        "colab": {
          "base_uri": "https://localhost:8080/"
        },
        "id": "WD0YPpyC14iS",
        "outputId": "87683b67-81a5-4407-ad36-59f75b31f56e"
      },
      "execution_count": 33,
      "outputs": [
        {
          "output_type": "stream",
          "name": "stdout",
          "text": [
            "P y t h o n "
          ]
        }
      ]
    },
    {
      "cell_type": "code",
      "source": [
        "square = [x ** 2 for x in range(0,21)]\n",
        "print(square)"
      ],
      "metadata": {
        "colab": {
          "base_uri": "https://localhost:8080/"
        },
        "id": "xSECXiRz2TRw",
        "outputId": "17752c69-810a-400d-e0bc-6892e2b7b0b9"
      },
      "execution_count": 34,
      "outputs": [
        {
          "output_type": "stream",
          "name": "stdout",
          "text": [
            "[0, 1, 4, 9, 16, 25, 36, 49, 64, 81, 100, 121, 144, 169, 196, 225, 256, 289, 324, 361, 400]\n"
          ]
        }
      ]
    },
    {
      "cell_type": "code",
      "source": [
        "sentence= \"List Comprehension is Cool\"\n",
        "list_of_vowels = [vowels for vowels in sentence if vowels.lower() in \"aeiou\"]\n",
        "print(list_of_vowels)"
      ],
      "metadata": {
        "colab": {
          "base_uri": "https://localhost:8080/"
        },
        "id": "DU44C8Vs2kTo",
        "outputId": "9e7fe36f-b9ef-4cce-ebd3-e7bd9af87bcc"
      },
      "execution_count": 37,
      "outputs": [
        {
          "output_type": "stream",
          "name": "stdout",
          "text": [
            "['i', 'o', 'e', 'e', 'i', 'o', 'i', 'o', 'o']\n"
          ]
        }
      ]
    },
    {
      "cell_type": "code",
      "source": [
        "numbers = [12, 5, 8, 130, 44, 11 ,10]\n",
        "greater = [num for num in numbers if num > 10]\n",
        "print(greater)"
      ],
      "metadata": {
        "colab": {
          "base_uri": "https://localhost:8080/"
        },
        "id": "KAZQBYak23cI",
        "outputId": "d7710c9e-e6c5-49ce-9a9a-bdfc869fe0fc"
      },
      "execution_count": 44,
      "outputs": [
        {
          "output_type": "stream",
          "name": "stdout",
          "text": [
            "[12, 130, 44, 11]\n"
          ]
        }
      ]
    },
    {
      "cell_type": "code",
      "source": [
        "even_number_list = [even for even in range(0,101) if even % 2 == 0]\n",
        "print(even_number_list)"
      ],
      "metadata": {
        "colab": {
          "base_uri": "https://localhost:8080/"
        },
        "id": "y2bU_gMv4af-",
        "outputId": "a435339e-b4e0-4da0-e1be-172380803602"
      },
      "execution_count": 45,
      "outputs": [
        {
          "output_type": "stream",
          "name": "stdout",
          "text": [
            "[0, 2, 4, 6, 8, 10, 12, 14, 16, 18, 20, 22, 24, 26, 28, 30, 32, 34, 36, 38, 40, 42, 44, 46, 48, 50, 52, 54, 56, 58, 60, 62, 64, 66, 68, 70, 72, 74, 76, 78, 80, 82, 84, 86, 88, 90, 92, 94, 96, 98, 100]\n"
          ]
        }
      ]
    },
    {
      "cell_type": "code",
      "source": [
        "celcius = [0, 20, 30, 40]\n",
        "celcius_to_fah = [(cel * 9/5) + 32 for cel in celcius ]\n",
        "print(celcius_to_fah)"
      ],
      "metadata": {
        "colab": {
          "base_uri": "https://localhost:8080/"
        },
        "id": "DJKJjpwU4aX_",
        "outputId": "d710304b-17c5-4362-c9bf-4f631e7f7558"
      },
      "execution_count": 48,
      "outputs": [
        {
          "output_type": "stream",
          "name": "stdout",
          "text": [
            "[32.0, 68.0, 86.0, 104.0]\n"
          ]
        }
      ]
    },
    {
      "cell_type": "code",
      "source": [
        "nested_list = [[1, 2], [3, 4]]\n",
        "merge = [item for sublist in nested_list for item in sublist]\n",
        "print(merge)"
      ],
      "metadata": {
        "colab": {
          "base_uri": "https://localhost:8080/"
        },
        "id": "INHCy4Zf5d59",
        "outputId": "1b8e3fc4-f3d0-4774-f299-878e25bc0824"
      },
      "execution_count": 50,
      "outputs": [
        {
          "output_type": "stream",
          "name": "stdout",
          "text": [
            "[1, 2, 3, 4]\n"
          ]
        }
      ]
    },
    {
      "cell_type": "code",
      "source": [
        "odd_num_sq = [odd ** 2 for odd in range(0 , 21) if odd % 2 != 0 ]\n",
        "print(odd_num_sq)"
      ],
      "metadata": {
        "colab": {
          "base_uri": "https://localhost:8080/"
        },
        "id": "RUCDvZ7vJgkH",
        "outputId": "7e59d22a-9c73-424e-a892-ae58e83cad7f"
      },
      "execution_count": 51,
      "outputs": [
        {
          "output_type": "stream",
          "name": "stdout",
          "text": [
            "[1, 9, 25, 49, 81, 121, 169, 225, 289, 361]\n"
          ]
        }
      ]
    },
    {
      "cell_type": "code",
      "source": [
        "list_word = [\"cat\" , \"dog\" , \"camel\" , \"book\" , \"matter\" , \"laptop\" , \"fries\" , \"momentum\"]\n",
        "length_words =[len(word) for word in list_word if len(word) > 3]\n",
        "print(length_words)"
      ],
      "metadata": {
        "colab": {
          "base_uri": "https://localhost:8080/"
        },
        "id": "NU9HqtG5KqZN",
        "outputId": "4eccc51c-11f3-4237-941f-a722307028fe"
      },
      "execution_count": 56,
      "outputs": [
        {
          "output_type": "stream",
          "name": "stdout",
          "text": [
            "[6, 6, 8]\n"
          ]
        }
      ]
    },
    {
      "cell_type": "code",
      "source": [
        "sentence = \"Are you going to the store, What is your name, Do you like ice cream, Why are you sad, and When will you come back.\"\n",
        "vowel_words = [vowels_word for vowels_word in sentence.split() if vowels_word[0].lower() in \"aeiou\"]\n",
        "print(vowel_words)\n",
        "print (sentence.split())"
      ],
      "metadata": {
        "colab": {
          "base_uri": "https://localhost:8080/"
        },
        "id": "Tmc-GC-tLqhH",
        "outputId": "9caa3a62-60d1-4145-e29b-501b54142fd0"
      },
      "execution_count": 62,
      "outputs": [
        {
          "output_type": "stream",
          "name": "stdout",
          "text": [
            "['Are', 'is', 'ice', 'are', 'and']\n",
            "['Are', 'you', 'going', 'to', 'the', 'store,', 'What', 'is', 'your', 'name,', 'Do', 'you', 'like', 'ice', 'cream,', 'Why', 'are', 'you', 'sad,', 'and', 'When', 'will', 'you', 'come', 'back.']\n"
          ]
        }
      ]
    },
    {
      "cell_type": "markdown",
      "source": [
        "### **Dictionary Comprehension Practice**"
      ],
      "metadata": {
        "id": "ZTX-6fIvUhYa"
      }
    },
    {
      "cell_type": "code",
      "source": [
        "keys = ['a', 'b', 'c']\n",
        "values = [1, 2, 3]\n",
        "result = dict(zip(keys,values))\n",
        "print(result)\n",
        "print(dict())\n"
      ],
      "metadata": {
        "colab": {
          "base_uri": "https://localhost:8080/"
        },
        "id": "dP0pKvnSRnKp",
        "outputId": "0d0833cf-092f-4c28-d2a1-d2918f55629b"
      },
      "execution_count": 72,
      "outputs": [
        {
          "output_type": "stream",
          "name": "stdout",
          "text": [
            "{'a': 1, 'b': 2, 'c': 3}\n",
            "{}\n"
          ]
        }
      ]
    },
    {
      "cell_type": "code",
      "source": [
        "original = {'a': 1, 'b': 2}\n",
        "print(\"Orignal key return key and value\",original.items())\n",
        "swapped = {value: key for key, value in original.items()}\n",
        "print(swapped)"
      ],
      "metadata": {
        "colab": {
          "base_uri": "https://localhost:8080/"
        },
        "id": "jTvJ1HqbZNzt",
        "outputId": "bc455557-2342-4249-b37e-03313a450852"
      },
      "execution_count": 71,
      "outputs": [
        {
          "output_type": "stream",
          "name": "stdout",
          "text": [
            "Orignal key return key and value dict_items([('a', 1), ('b', 2)])\n",
            "{1: 'a', 2: 'b'}\n"
          ]
        }
      ]
    },
    {
      "cell_type": "markdown",
      "source": [
        "\"Hey Python, for every key-value pair in the original dictionary, make a new pair where the value becomes the key, and the key becomes the value.\""
      ],
      "metadata": {
        "id": "rDCuuARyaIzl"
      }
    },
    {
      "cell_type": "code",
      "source": [
        "print({key: key ** 2 for key in range(1, 10)})"
      ],
      "metadata": {
        "colab": {
          "base_uri": "https://localhost:8080/"
        },
        "id": "gwzWzIYUZVJI",
        "outputId": "d019c86c-bc45-421d-d3bd-b6d9c4357e73"
      },
      "execution_count": 79,
      "outputs": [
        {
          "output_type": "stream",
          "name": "stdout",
          "text": [
            "{1: 1, 2: 4, 3: 9, 4: 16, 5: 25, 6: 36, 7: 49, 8: 64, 9: 81}\n"
          ]
        }
      ]
    },
    {
      "cell_type": "code",
      "source": [
        "numbers = {'a': 1, 'b': 4, 'c': 7, 'd': 10, 'e': 3, 'f': 8}\n",
        "even_item = {key: value for key, value in numbers.items() if value % 2 == 0}\n",
        "print(even_item)"
      ],
      "metadata": {
        "colab": {
          "base_uri": "https://localhost:8080/"
        },
        "id": "JupkFuPSgkE9",
        "outputId": "2831edf0-d9d5-499c-9c3a-5895e6ca1ec0"
      },
      "execution_count": 80,
      "outputs": [
        {
          "output_type": "stream",
          "name": "stdout",
          "text": [
            "{'b': 4, 'd': 10, 'f': 8}\n"
          ]
        }
      ]
    },
    {
      "cell_type": "code",
      "source": [
        "text = \"dictionary\"\n",
        "my_dict = {char: text.count(char) for char in text}\n",
        "print(my_dict)"
      ],
      "metadata": {
        "colab": {
          "base_uri": "https://localhost:8080/"
        },
        "id": "YAOJKDEEiw7m",
        "outputId": "20e219a0-fbdf-4e8c-af68-f826fd191157"
      },
      "execution_count": 85,
      "outputs": [
        {
          "output_type": "stream",
          "name": "stdout",
          "text": [
            "1\n",
            "{'d': 1, 'i': 2, 'c': 1, 't': 1, 'o': 1, 'n': 1, 'a': 1, 'r': 1, 'y': 1}\n"
          ]
        }
      ]
    },
    {
      "cell_type": "code",
      "source": [
        "items = [(\"apple\", 1), (\"banana\", 2), (\"chocolate\", 3)]\n",
        "names = [name for name , price in items]\n",
        "price_based_name = [name for name , price in items if price > 1]\n",
        "print(\"Name:\", names)\n",
        "print(\"Price based name greater than 1\",price_based_name)\n"
      ],
      "metadata": {
        "colab": {
          "base_uri": "https://localhost:8080/"
        },
        "id": "wrGPRXaNnAu6",
        "outputId": "b681e520-d7a2-4f4c-cffa-e6aec07eb26b"
      },
      "execution_count": 90,
      "outputs": [
        {
          "output_type": "stream",
          "name": "stdout",
          "text": [
            "Name: ['apple', 'banana', 'chocolate']\n",
            "Price based name greater than 1 ['banana', 'chocolate']\n"
          ]
        }
      ]
    },
    {
      "cell_type": "code",
      "source": [
        "clothes = [\"shirt\", \"pants\", \"hat\"]\n",
        "add_clean = [item + \" clean\" for item in clothes]\n",
        "print(add_clean)"
      ],
      "metadata": {
        "colab": {
          "base_uri": "https://localhost:8080/"
        },
        "id": "sJrdLkZSnkCp",
        "outputId": "6918ed75-b235-4227-a972-93a6ed775141"
      },
      "execution_count": 92,
      "outputs": [
        {
          "output_type": "stream",
          "name": "stdout",
          "text": [
            "['shirt clean', 'pants clean', 'hat clean']\n"
          ]
        }
      ]
    },
    {
      "cell_type": "code",
      "source": [
        "grades = [85, 40, 67, 90, 55]\n",
        "pass_fail = [\"Pass\" if grade > 50 else \"Fail\" for grade in grades]\n",
        "print(pass_fail)"
      ],
      "metadata": {
        "colab": {
          "base_uri": "https://localhost:8080/"
        },
        "id": "kQIVKMpioCB4",
        "outputId": "5ad04fb1-4dc6-4011-f29f-b311712b0aef"
      },
      "execution_count": 93,
      "outputs": [
        {
          "output_type": "stream",
          "name": "stdout",
          "text": [
            "['Pass', 'Fail', 'Pass', 'Pass', 'Pass']\n"
          ]
        }
      ]
    },
    {
      "cell_type": "code",
      "source": [
        "days = [\"Monday\", \"Tuesday\", \"Wednesday\", \"Thursday\", \"Friday\"]\n",
        "lower_case = [day.lower() for day in days]\n",
        "print(lower_case)"
      ],
      "metadata": {
        "colab": {
          "base_uri": "https://localhost:8080/"
        },
        "id": "gR6WLEC4oZm4",
        "outputId": "9ea26e86-9fcd-47a0-b937-48ae559197f4"
      },
      "execution_count": 94,
      "outputs": [
        {
          "output_type": "stream",
          "name": "stdout",
          "text": [
            "['monday', 'tuesday', 'wednesday', 'thursday', 'friday']\n"
          ]
        }
      ]
    }
  ]
}