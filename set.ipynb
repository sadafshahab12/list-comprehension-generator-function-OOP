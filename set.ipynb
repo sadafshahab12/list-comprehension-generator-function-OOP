{
  "nbformat": 4,
  "nbformat_minor": 0,
  "metadata": {
    "colab": {
      "provenance": [],
      "authorship_tag": "ABX9TyPA/DQ6mRxYvYArOUkAMYKM",
      "include_colab_link": true
    },
    "kernelspec": {
      "name": "python3",
      "display_name": "Python 3"
    },
    "language_info": {
      "name": "python"
    }
  },
  "cells": [
    {
      "cell_type": "markdown",
      "metadata": {
        "id": "view-in-github",
        "colab_type": "text"
      },
      "source": [
        "<a href=\"https://colab.research.google.com/github/sadafshahab12/list-comprehension-generator-function-OOP/blob/main/set.ipynb\" target=\"_parent\"><img src=\"https://colab.research.google.com/assets/colab-badge.svg\" alt=\"Open In Colab\"/></a>"
      ]
    },
    {
      "cell_type": "code",
      "execution_count": 6,
      "metadata": {
        "colab": {
          "base_uri": "https://localhost:8080/"
        },
        "id": "36XdiSRhRzJg",
        "outputId": "cd99281b-92f2-438a-d8c2-e08a29bf7e6c"
      },
      "outputs": [
        {
          "output_type": "stream",
          "name": "stdout",
          "text": [
            "{(123, 452, 5, 6)}\n"
          ]
        }
      ],
      "source": [
        "my_set = {123, 452, 5, 6}\n",
        "my_set = {(123, 452, 5, 6)}\n",
        "print(my_set)"
      ]
    },
    {
      "cell_type": "code",
      "source": [
        "#unordered\n",
        "set2 = {'Java', 'Python', 'JavaScript', 'java'}\n",
        "print(set2)"
      ],
      "metadata": {
        "colab": {
          "base_uri": "https://localhost:8080/"
        },
        "id": "zWb6U5AJULd2",
        "outputId": "1c6fcd79-b0e4-46f1-9a3e-1ee45383cd9b"
      },
      "execution_count": 10,
      "outputs": [
        {
          "output_type": "stream",
          "name": "stdout",
          "text": [
            "{'Python', 'Java', 'JavaScript', 'java'}\n"
          ]
        }
      ]
    },
    {
      "cell_type": "code",
      "source": [
        "my_setss = {1,2,3,4,5}\n",
        "print(my_setss)\n",
        "\n",
        "try:\n",
        "  my_setss.add(6)\n",
        "  print(my_setss)\n",
        "  my_setss.remove(8)\n",
        "  print(my_setss)\n",
        "except Exception as e:\n",
        "  print(e)\n",
        ""
      ],
      "metadata": {
        "colab": {
          "base_uri": "https://localhost:8080/"
        },
        "id": "Hbfs-9vKVPs4",
        "outputId": "aeb86331-add4-4f8c-c68b-54778f784dab"
      },
      "execution_count": 18,
      "outputs": [
        {
          "output_type": "stream",
          "name": "stdout",
          "text": [
            "{1, 2, 3, 4, 5}\n",
            "{1, 2, 3, 4, 5, 6}\n",
            "8\n"
          ]
        }
      ]
    },
    {
      "cell_type": "code",
      "source": [
        "fruits = {\"apple\", \"banana\", \"cherry\", \"mango\"}\n",
        "fruits.remove(\"banana\")\n",
        "print(fruits)\n",
        "fruits.discard(\"yellow\")\n",
        "print(fruits)"
      ],
      "metadata": {
        "colab": {
          "base_uri": "https://localhost:8080/"
        },
        "id": "mvoB7Vf2XTPA",
        "outputId": "e3de90fa-0876-48a9-87dc-de6143329604"
      },
      "execution_count": 24,
      "outputs": [
        {
          "output_type": "stream",
          "name": "stdout",
          "text": [
            "{'cherry', 'apple', 'mango'}\n",
            "{'cherry', 'apple', 'mango'}\n"
          ]
        }
      ]
    },
    {
      "cell_type": "code",
      "source": [
        "nums = {1, 2, 3, 4, 5, 6, 7, 8}\n",
        "for num in nums.copy():\n",
        "  if num % 2 ==0:\n",
        "    nums.remove(num)\n",
        "\n",
        "print(nums)\n"
      ],
      "metadata": {
        "colab": {
          "base_uri": "https://localhost:8080/"
        },
        "id": "pY8ib2nwYBef",
        "outputId": "e648fa11-4d01-4863-c333-2814475b81e1"
      },
      "execution_count": 31,
      "outputs": [
        {
          "output_type": "stream",
          "name": "stdout",
          "text": [
            "{1, 3, 5, 7}\n"
          ]
        }
      ]
    },
    {
      "cell_type": "code",
      "source": [
        "students = {\"Ali\", \"Sara\", \"Zain\", \"Fatima\"}\n",
        "if \"Zain\" in students:\n",
        "  students.remove(\"Zain\")\n",
        "print(students)"
      ],
      "metadata": {
        "colab": {
          "base_uri": "https://localhost:8080/"
        },
        "id": "BdyEWPYUY6i3",
        "outputId": "ce1e44ad-9dc4-4014-a122-19b6d5da4852"
      },
      "execution_count": 35,
      "outputs": [
        {
          "output_type": "stream",
          "name": "stdout",
          "text": [
            "{'Ali', 'Sara', 'Fatima'}\n"
          ]
        }
      ]
    },
    {
      "cell_type": "markdown",
      "source": [
        "**difference_update():**\n",
        "\n",
        "Aapke original set me se wo elements hata deta hai jo doosre set me bhi hain.\n",
        "\n",
        "Ye directly original set ko modify karta hai (return nahi karta naya set)."
      ],
      "metadata": {
        "id": "eQEmBea72MC-"
      }
    },
    {
      "cell_type": "code",
      "source": [
        "a = {1, 2, 3, 4}\n",
        "b = {3, 4, 5}\n",
        "\n",
        "b.difference_update(a)\n",
        "print(b)"
      ],
      "metadata": {
        "colab": {
          "base_uri": "https://localhost:8080/"
        },
        "id": "sqivduFz2NQG",
        "outputId": "83a31a46-0df6-4e7c-e977-a24ba5911650"
      },
      "execution_count": 2,
      "outputs": [
        {
          "output_type": "stream",
          "name": "stdout",
          "text": [
            "{5}\n"
          ]
        }
      ]
    },
    {
      "cell_type": "markdown",
      "source": [
        "**Comparison with difference():**\n",
        "a.difference(b) ➡️ naya set return karta hai (original change nahi hota).\n",
        "\n",
        "a.difference_update(b) ➡️ original set a ko hi change kar deta hai."
      ],
      "metadata": {
        "id": "326oKJmY2leY"
      }
    },
    {
      "cell_type": "markdown",
      "source": [
        "**difference_update** = jo cheezein common hain, unko hata do."
      ],
      "metadata": {
        "id": "ufpRh60N4NYO"
      }
    },
    {
      "cell_type": "code",
      "source": [
        "my_set = {1, 2, 3, 5}\n",
        "my_set_2 = {1, 5, 6, 7}\n",
        "print(my_set | my_set_2)\n",
        "my_set_2.pop()\n",
        "print(my_set_2)\n",
        "my_set.pop()\n",
        "print(my_set)\n",
        "my_set_2.pop()\n",
        "print(my_set_2)"
      ],
      "metadata": {
        "colab": {
          "base_uri": "https://localhost:8080/"
        },
        "id": "f0aT7j5Q4H92",
        "outputId": "fc884527-8e8b-4d0e-ad9b-c95b8165e2fb"
      },
      "execution_count": 9,
      "outputs": [
        {
          "output_type": "stream",
          "name": "stdout",
          "text": [
            "{1, 2, 3, 5, 6, 7}\n",
            "{5, 6, 7}\n",
            "{2, 3, 5}\n",
            "{6, 7}\n"
          ]
        }
      ]
    },
    {
      "cell_type": "markdown",
      "source": [
        ".pop() removes one arbitrary element, not always the \"first\" logically."
      ],
      "metadata": {
        "id": "40ZBLFYq8t35"
      }
    },
    {
      "cell_type": "markdown",
      "source": [
        "**Original sets remain unchanged**: The original sets are not modified by the union operation."
      ],
      "metadata": {
        "id": "QVkET4bJ7enJ"
      }
    },
    {
      "cell_type": "code",
      "source": [
        "my_set  = {1,2,3,4,5, \"Hello! World\"}\n",
        "my_dict = {\"set_of\": my_set}\n",
        "print(my_dict)"
      ],
      "metadata": {
        "colab": {
          "base_uri": "https://localhost:8080/"
        },
        "id": "QDtKLD_l-Atn",
        "outputId": "1cd3df62-3f64-4d79-87bd-e503faa9819d"
      },
      "execution_count": 11,
      "outputs": [
        {
          "output_type": "stream",
          "name": "stdout",
          "text": [
            "{'set_of': {1, 2, 3, 4, 5, 'Hello! World'}}\n"
          ]
        }
      ]
    },
    {
      "cell_type": "code",
      "source": [
        "my_set5 = {10, 3, 5, 8}\n",
        "my_set5.add(11)\n",
        "print(my_set5)\n",
        "my_set5.add(22)\n",
        "print(my_set5)\n",
        "my_set5.add(20)\n",
        "\n",
        "print(my_set5)"
      ],
      "metadata": {
        "colab": {
          "base_uri": "https://localhost:8080/"
        },
        "id": "0B9QLf_1BeaV",
        "outputId": "4fb66118-a772-4e89-e477-0e8a85f5a727"
      },
      "execution_count": 20,
      "outputs": [
        {
          "output_type": "stream",
          "name": "stdout",
          "text": [
            "{3, 5, 8, 10, 11}\n",
            "{3, 5, 8, 10, 11, 22}\n",
            "{3, 5, 8, 10, 11, 20, 22}\n"
          ]
        }
      ]
    },
    {
      "cell_type": "code",
      "source": [
        "my_frozenset = frozenset([1,2,3, \"Hello! World\"])\n",
        "print(\"my_frozenset  = \", my_frozenset)"
      ],
      "metadata": {
        "colab": {
          "base_uri": "https://localhost:8080/"
        },
        "id": "QYE4GTXLE1DD",
        "outputId": "f30fb720-a984-491f-bf8a-49278bcc8294"
      },
      "execution_count": 22,
      "outputs": [
        {
          "output_type": "stream",
          "name": "stdout",
          "text": [
            "my_frozenset  =  frozenset({'Hello! World', 1, 2, 3})\n"
          ]
        }
      ]
    },
    {
      "cell_type": "code",
      "source": [
        "my_set = {1,2,3, \"Hello! World\", 4,5,6}\n",
        "my_set_2 = {1,2,3, \"Hello! World\", 4,5,6}\n",
        "print(\"symmetric_difference() = \", my_set.symmetric_difference(my_set_2))\n",
        "print(my_set.isdisjoint(my_set_2))\n",
        "print(my_set.issuperset(my_set_2))\n",
        "print(my_set.issubset(my_set_2))"
      ],
      "metadata": {
        "colab": {
          "base_uri": "https://localhost:8080/"
        },
        "id": "9C2AED4OFQ8C",
        "outputId": "a4eeca02-2d92-4ab3-9167-d927a53f8734"
      },
      "execution_count": 30,
      "outputs": [
        {
          "output_type": "stream",
          "name": "stdout",
          "text": [
            "symmetric_difference() =  set()\n",
            "False\n",
            "True\n",
            "True\n"
          ]
        }
      ]
    },
    {
      "cell_type": "code",
      "source": [
        "import gc\n",
        "\n",
        "gc.collect()\n",
        "print(gc.get_count())"
      ],
      "metadata": {
        "id": "_USbK9luHk4p"
      },
      "execution_count": null,
      "outputs": []
    }
  ]
}