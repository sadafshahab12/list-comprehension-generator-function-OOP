{
  "nbformat": 4,
  "nbformat_minor": 0,
  "metadata": {
    "colab": {
      "provenance": [],
      "authorship_tag": "ABX9TyNx/Wmp14MREDTEQTwkIwGy",
      "include_colab_link": true
    },
    "kernelspec": {
      "name": "python3",
      "display_name": "Python 3"
    },
    "language_info": {
      "name": "python"
    }
  },
  "cells": [
    {
      "cell_type": "markdown",
      "metadata": {
        "id": "view-in-github",
        "colab_type": "text"
      },
      "source": [
        "<a href=\"https://colab.research.google.com/github/sadafshahab12/list-comprehension-generator-function-OOP/blob/main/Datat_types_in_Python.ipynb\" target=\"_parent\"><img src=\"https://colab.research.google.com/assets/colab-badge.svg\" alt=\"Open In Colab\"/></a>"
      ]
    },
    {
      "cell_type": "code",
      "execution_count": null,
      "metadata": {
        "colab": {
          "base_uri": "https://localhost:8080/"
        },
        "id": "NpjD-DOijCUi",
        "outputId": "29c41015-8549-49c8-af15-c412e6bad0f5"
      },
      "outputs": [
        {
          "output_type": "stream",
          "name": "stdout",
          "text": [
            "The type of 1 is : <class 'int'>\n",
            "The type of two is : <class 'str'>\n",
            "The type of 3.0 is : <class 'float'>\n",
            "The type of False is : <class 'bool'>\n",
            "The type of None is : <class 'NoneType'>\n"
          ]
        }
      ],
      "source": [
        "data = [1, \"two\", 3.0, False, None]\n",
        "for types in data:\n",
        "  print(f\"The type of {types} is : {type(types)}\")\n"
      ]
    },
    {
      "cell_type": "code",
      "source": [
        "s = \"456\"\n",
        "print(type(s))\n",
        "integer= int(s)\n",
        "print(type(integer))\n",
        "print(s)\n",
        "print(integer)"
      ],
      "metadata": {
        "colab": {
          "base_uri": "https://localhost:8080/"
        },
        "id": "GOEb7JwekQhL",
        "outputId": "105e8822-9627-47f1-9e15-5f08e2e40450"
      },
      "execution_count": null,
      "outputs": [
        {
          "output_type": "stream",
          "name": "stdout",
          "text": [
            "<class 'str'>\n",
            "<class 'int'>\n",
            "456\n",
            "456\n"
          ]
        }
      ]
    },
    {
      "cell_type": "code",
      "source": [
        "name= input(\"Enter your name: \")\n",
        "# integer_name = int(name) # if we convert string into integer it will throw value error\n",
        "print(type(name))\n",
        "# print(type(integer_name))"
      ],
      "metadata": {
        "colab": {
          "base_uri": "https://localhost:8080/"
        },
        "id": "ae0lsShskmXL",
        "outputId": "7338c803-c705-4f91-ec6e-881dff4677f7"
      },
      "execution_count": null,
      "outputs": [
        {
          "output_type": "stream",
          "name": "stdout",
          "text": [
            "Enter your name: sadaf\n",
            "<class 'str'>\n"
          ]
        }
      ]
    },
    {
      "cell_type": "code",
      "source": [
        "z = 10 // 3\n",
        "print(type(z))\n",
        "print(z)"
      ],
      "metadata": {
        "colab": {
          "base_uri": "https://localhost:8080/"
        },
        "id": "FQPG1QDelKjq",
        "outputId": "d797c14b-6dfc-42fe-aff0-a9d1710d3bda"
      },
      "execution_count": null,
      "outputs": [
        {
          "output_type": "stream",
          "name": "stdout",
          "text": [
            "<class 'int'>\n",
            "3\n"
          ]
        }
      ]
    },
    {
      "cell_type": "code",
      "source": [
        "types_of = type(4 > 2)\n",
        "print(types_of)\n"
      ],
      "metadata": {
        "colab": {
          "base_uri": "https://localhost:8080/"
        },
        "id": "LWHEwC1jlXoJ",
        "outputId": "57cea50c-38b1-4fe8-c361-b479070354d9"
      },
      "execution_count": null,
      "outputs": [
        {
          "output_type": "stream",
          "name": "stdout",
          "text": [
            "<class 'bool'>\n"
          ]
        }
      ]
    },
    {
      "cell_type": "code",
      "source": [
        "x = [1, 2, 3]\n",
        "print(type(x))"
      ],
      "metadata": {
        "colab": {
          "base_uri": "https://localhost:8080/"
        },
        "id": "2jAh2W3tmxh4",
        "outputId": "902063df-f54c-490c-8c34-c910ea194da6"
      },
      "execution_count": null,
      "outputs": [
        {
          "output_type": "stream",
          "name": "stdout",
          "text": [
            "<class 'list'>\n"
          ]
        }
      ]
    },
    {
      "cell_type": "code",
      "source": [
        "b = 3.14\n",
        "print(type(b))\n",
        "b_as_str = str(b)\n",
        "print(type(b_as_str))"
      ],
      "metadata": {
        "colab": {
          "base_uri": "https://localhost:8080/"
        },
        "id": "w54g6lPrm1VY",
        "outputId": "5ae837d4-8772-4e0f-8e1d-0aa187d68d64"
      },
      "execution_count": null,
      "outputs": [
        {
          "output_type": "stream",
          "name": "stdout",
          "text": [
            "<class 'float'>\n",
            "<class 'str'>\n"
          ]
        }
      ]
    },
    {
      "cell_type": "code",
      "source": [
        "z = 8 + 4j\n",
        "print(type(z))\n",
        "print (z.real)\n",
        "print(z.imag)"
      ],
      "metadata": {
        "colab": {
          "base_uri": "https://localhost:8080/"
        },
        "id": "pVyali39pUdV",
        "outputId": "65b63702-8e41-4212-f2b3-f744f775b1a0"
      },
      "execution_count": null,
      "outputs": [
        {
          "output_type": "stream",
          "name": "stdout",
          "text": [
            "<class 'complex'>\n",
            "8.0\n",
            "4.0\n"
          ]
        }
      ]
    },
    {
      "cell_type": "code",
      "source": [
        "num_range = range(1, 0, 8)\n",
        "print(num_range)\n",
        "print(num_range.step)\n",
        "print(type(num_range))"
      ],
      "metadata": {
        "colab": {
          "base_uri": "https://localhost:8080/"
        },
        "id": "dwncxwbkqXu8",
        "outputId": "fb69ab8c-4e3e-4ccb-e482-0efacb64d2b7"
      },
      "execution_count": null,
      "outputs": [
        {
          "output_type": "stream",
          "name": "stdout",
          "text": [
            "range(1, 0, 8)\n",
            "8\n",
            "<class 'range'>\n"
          ]
        }
      ]
    },
    {
      "cell_type": "code",
      "source": [
        "for i in range(1 , 10 , 2):\n",
        "  print(i)"
      ],
      "metadata": {
        "colab": {
          "base_uri": "https://localhost:8080/"
        },
        "id": "IRuuc2E7qphk",
        "outputId": "380c9fe9-c140-4f4f-e9f7-ad5876e5a8b9"
      },
      "execution_count": null,
      "outputs": [
        {
          "output_type": "stream",
          "name": "stdout",
          "text": [
            "1\n",
            "3\n",
            "5\n",
            "7\n",
            "9\n"
          ]
        }
      ]
    },
    {
      "cell_type": "code",
      "source": [
        "def even_odd_checker (num):\n"
      ],
      "metadata": {
        "id": "1RpK7o6NrD-D"
      },
      "execution_count": null,
      "outputs": []
    },
    {
      "cell_type": "code",
      "source": [
        "friends_1 = {\"Alice\", \"Bob\", \"Charlie\", \"David\"}\n",
        "friends_2 = {\"Charlie\", \"David\", \"Eve\", \"Frank\"}\n",
        "\n",
        "mutual_friends = friends_1.intersection(friends_2)\n",
        "\n",
        "print(mutual_friends)"
      ],
      "metadata": {
        "colab": {
          "base_uri": "https://localhost:8080/"
        },
        "id": "i1I8IIc2r_II",
        "outputId": "95c5ab2c-9869-4500-bd5d-7dbdcb14e7bb"
      },
      "execution_count": 1,
      "outputs": [
        {
          "output_type": "stream",
          "name": "stdout",
          "text": [
            "{'David', 'Charlie'}\n"
          ]
        }
      ]
    },
    {
      "cell_type": "code",
      "source": [
        "my_dict = {\"name\": \"Alice\", \"age\": 25, \"city\": \"New York\"}\n",
        "\n",
        "# Accessing a value using the key\n",
        "my_dict[\"age\"] = 40\n",
        "\n",
        "# Printing the value\n",
        "print(my_dict)"
      ],
      "metadata": {
        "colab": {
          "base_uri": "https://localhost:8080/"
        },
        "id": "yfezIdlcsaD4",
        "outputId": "12823e41-51eb-404c-ed82-6ed17cdbd3e9"
      },
      "execution_count": 2,
      "outputs": [
        {
          "output_type": "stream",
          "name": "stdout",
          "text": [
            "{'name': 'Alice', 'age': 40, 'city': 'New York'}\n"
          ]
        }
      ]
    },
    {
      "cell_type": "code",
      "source": [
        "numbers = [1, 2, 3, 4, 5]\n",
        "\n",
        "# Using for loop to print each number\n",
        "for number in numbers:\n",
        "    print(number)"
      ],
      "metadata": {
        "colab": {
          "base_uri": "https://localhost:8080/"
        },
        "id": "Fd224u4ZtBse",
        "outputId": "d2d675f0-8f09-40f9-fd7f-f589bb7cab40"
      },
      "execution_count": 3,
      "outputs": [
        {
          "output_type": "stream",
          "name": "stdout",
          "text": [
            "1\n",
            "2\n",
            "3\n",
            "4\n",
            "5\n"
          ]
        }
      ]
    },
    {
      "cell_type": "code",
      "source": [
        "scores = {\"Alice\": 85, \"Bob\": 90, \"Charlie\": 78, \"David\": 92}\n",
        "\n",
        "# Using for loop to print each student's name and score\n",
        "for student, score in scores.items():\n",
        "    print(f\"{student} scored {score}\")"
      ],
      "metadata": {
        "colab": {
          "base_uri": "https://localhost:8080/"
        },
        "id": "kL2b0ydrtMju",
        "outputId": "b3a6ff37-c5a2-4677-930f-ada33f714ae4"
      },
      "execution_count": 4,
      "outputs": [
        {
          "output_type": "stream",
          "name": "stdout",
          "text": [
            "Alice scored 85\n",
            "Bob scored 90\n",
            "Charlie scored 78\n",
            "David scored 92\n"
          ]
        }
      ]
    },
    {
      "cell_type": "code",
      "source": [
        "def greet(name, age):\n",
        "    print(f\"Hello {name}, you are {age} years old.\")\n",
        "\n",
        "# Calling the function with keyword arguments\n",
        "greet(age=25, name=\"Alice\")"
      ],
      "metadata": {
        "colab": {
          "base_uri": "https://localhost:8080/"
        },
        "id": "ChPhXJTStb4G",
        "outputId": "2a3a5bdc-6e4a-45cc-9c2a-fca12c6e53eb"
      },
      "execution_count": 5,
      "outputs": [
        {
          "output_type": "stream",
          "name": "stdout",
          "text": [
            "Hello Alice, you are 25 years old.\n"
          ]
        }
      ]
    }
  ]
}