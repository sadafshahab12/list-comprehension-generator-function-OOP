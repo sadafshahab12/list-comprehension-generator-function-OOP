{
  "nbformat": 4,
  "nbformat_minor": 0,
  "metadata": {
    "colab": {
      "provenance": [],
      "authorship_tag": "ABX9TyPEuLidaCSW0bEDr6Cdjkke",
      "include_colab_link": true
    },
    "kernelspec": {
      "name": "python3",
      "display_name": "Python 3"
    },
    "language_info": {
      "name": "python"
    }
  },
  "cells": [
    {
      "cell_type": "markdown",
      "metadata": {
        "id": "view-in-github",
        "colab_type": "text"
      },
      "source": [
        "<a href=\"https://colab.research.google.com/github/sadafshahab12/list-comprehension-generator-function-OOP/blob/main/ControlFlow_%2B_list.ipynb\" target=\"_parent\"><img src=\"https://colab.research.google.com/assets/colab-badge.svg\" alt=\"Open In Colab\"/></a>"
      ]
    },
    {
      "cell_type": "code",
      "execution_count": null,
      "metadata": {
        "colab": {
          "base_uri": "https://localhost:8080/"
        },
        "id": "wahTctXOctcG",
        "outputId": "ee625f17-1ee3-4695-d129-6ea12e31ee34"
      },
      "outputs": [
        {
          "output_type": "stream",
          "name": "stdout",
          "text": [
            "Enter a number: 3\n",
            "The number is postive but odd.\n"
          ]
        }
      ],
      "source": [
        "num = int(input(\"Enter a number: \"))\n",
        "if num > 0:\n",
        "  if num % 2 ==0:\n",
        "    print(\"The number is positive and even.\")\n",
        "  else:\n",
        "    print(\"The number is positive but odd.\")\n",
        "\n",
        "else:\n",
        "  print(\"The number is negative.\")"
      ]
    },
    {
      "cell_type": "code",
      "source": [
        "def check_status_code(code):\n",
        "  match code:\n",
        "    case 200:\n",
        "      return \"OK\"\n",
        "    case 400:\n",
        "      return \"Bad Request\"\n",
        "    case 401:\n",
        "      return \"Unauthorized\"\n",
        "    case 403:\n",
        "      return \"Forbidden\"\n",
        "    case 404:\n",
        "      return \"Not Found\"\n",
        "\n",
        "check_status_code(403)"
      ],
      "metadata": {
        "colab": {
          "base_uri": "https://localhost:8080/",
          "height": 36
        },
        "id": "wQS5ISSWjBXv",
        "outputId": "e5ab924d-4d5f-47ea-b018-4ad3dd25d7bd"
      },
      "execution_count": null,
      "outputs": [
        {
          "output_type": "execute_result",
          "data": {
            "text/plain": [
              "'Forbidden'"
            ],
            "application/vnd.google.colaboratory.intrinsic+json": {
              "type": "string"
            }
          },
          "metadata": {},
          "execution_count": 8
        }
      ]
    },
    {
      "cell_type": "code",
      "source": [
        "number = [1,2,3,4,5]\n",
        "for num in number:\n",
        "  print(num)\n",
        "  if num == 3:\n",
        "    print(\"Loop break\")\n",
        "    break\n",
        "else:\n",
        "  print(\"loop completed successfully\" )\n",
        "\n",
        "for nums in number:\n",
        "  if nums == 10:\n",
        "    print(\"number is found\")\n",
        "    break\n",
        "else:\n",
        "  print(\"number is not found\")"
      ],
      "metadata": {
        "colab": {
          "base_uri": "https://localhost:8080/"
        },
        "id": "u3hBla6jkQS2",
        "outputId": "e0dd4d33-d612-4cd1-c846-76ff6174a0c5"
      },
      "execution_count": null,
      "outputs": [
        {
          "output_type": "stream",
          "name": "stdout",
          "text": [
            "1\n",
            "2\n",
            "3\n",
            "Loop break\n",
            "number is not found\n"
          ]
        }
      ]
    },
    {
      "cell_type": "code",
      "source": [
        "count = 1\n",
        "while count <= 5:\n",
        "  print(count)\n",
        "  count += 1"
      ],
      "metadata": {
        "colab": {
          "base_uri": "https://localhost:8080/"
        },
        "id": "A_7B5nPCqL2h",
        "outputId": "688dbfda-bd96-45ba-861c-c5a7c502c1d3"
      },
      "execution_count": null,
      "outputs": [
        {
          "output_type": "stream",
          "name": "stdout",
          "text": [
            "1\n",
            "2\n",
            "3\n",
            "4\n",
            "5\n"
          ]
        }
      ]
    },
    {
      "cell_type": "code",
      "source": [
        "user_name = \"sadaf\"\n",
        "password = \"123456\"\n",
        "while user_name:\n",
        "  user = input(\"Enter username: \")\n",
        "  pswrd = input(\"Enter password: \")\n",
        "  if user == user_name and pswrd == password:\n",
        "    print(\"Logged in successfully\")\n",
        "    break\n",
        "  else:\n",
        "    print(\"Invalid username or password\")\n",
        "\n",
        "\n"
      ],
      "metadata": {
        "colab": {
          "base_uri": "https://localhost:8080/"
        },
        "id": "fM10u5zcqf0R",
        "outputId": "dbe08274-7c21-4ea6-ef87-891234094646"
      },
      "execution_count": null,
      "outputs": [
        {
          "output_type": "stream",
          "name": "stdout",
          "text": [
            "Enter username: jghhjg'\n",
            "Enter password: jjk\n",
            "Invalid username or password\n",
            "Enter username: sadaf\n",
            "Enter password: 123456\n",
            "Logged in successfully\n"
          ]
        }
      ]
    },
    {
      "cell_type": "code",
      "source": [
        "for i in range(10):\n",
        "  if i == 6:\n",
        "    continue\n",
        "  print(i)"
      ],
      "metadata": {
        "colab": {
          "base_uri": "https://localhost:8080/"
        },
        "id": "3meKnW6B7L6_",
        "outputId": "5bbe25dc-d979-405c-85da-249b814c59b2"
      },
      "execution_count": null,
      "outputs": [
        {
          "output_type": "stream",
          "name": "stdout",
          "text": [
            "0\n",
            "1\n",
            "2\n",
            "3\n",
            "4\n",
            "5\n",
            "7\n",
            "8\n",
            "9\n"
          ]
        }
      ]
    },
    {
      "cell_type": "code",
      "source": [
        "for outer in range (1,6):\n",
        "  print(f\"Multiplication table for: {outer}\")\n",
        "  for inner in range(1,6):\n",
        "    print(f\"{outer} * {inner} = {outer * inner}\")\n",
        "  print()"
      ],
      "metadata": {
        "colab": {
          "base_uri": "https://localhost:8080/"
        },
        "id": "f0tSYSFz_Ccd",
        "outputId": "a73ceaa9-6727-43db-da69-fa79e186ce38"
      },
      "execution_count": null,
      "outputs": [
        {
          "output_type": "stream",
          "name": "stdout",
          "text": [
            "Multiplication table for: 1\n",
            "1 * 1 = 1\n",
            "1 * 2 = 2\n",
            "1 * 3 = 3\n",
            "1 * 4 = 4\n",
            "1 * 5 = 5\n",
            "\n",
            "Multiplication table for: 2\n",
            "2 * 1 = 2\n",
            "2 * 2 = 4\n",
            "2 * 3 = 6\n",
            "2 * 4 = 8\n",
            "2 * 5 = 10\n",
            "\n",
            "Multiplication table for: 3\n",
            "3 * 1 = 3\n",
            "3 * 2 = 6\n",
            "3 * 3 = 9\n",
            "3 * 4 = 12\n",
            "3 * 5 = 15\n",
            "\n",
            "Multiplication table for: 4\n",
            "4 * 1 = 4\n",
            "4 * 2 = 8\n",
            "4 * 3 = 12\n",
            "4 * 4 = 16\n",
            "4 * 5 = 20\n",
            "\n",
            "Multiplication table for: 5\n",
            "5 * 1 = 5\n",
            "5 * 2 = 10\n",
            "5 * 3 = 15\n",
            "5 * 4 = 20\n",
            "5 * 5 = 25\n",
            "\n"
          ]
        }
      ]
    },
    {
      "cell_type": "code",
      "source": [
        "#factors of a number\n",
        "\n",
        "num = int(input(\"Enter a number to know its factor: \"))\n",
        "factor = []\n",
        "for i in range(1 , num + 1):\n",
        "  # print(i)\n",
        "  if i % 2 ==0 :\n",
        "    factor.append(i)\n",
        "print(factor)\n"
      ],
      "metadata": {
        "colab": {
          "base_uri": "https://localhost:8080/"
        },
        "id": "-IO6jrFsIgvy",
        "outputId": "9e2f1c5b-4c8b-478f-be71-4f36f92e24bc"
      },
      "execution_count": null,
      "outputs": [
        {
          "output_type": "stream",
          "name": "stdout",
          "text": [
            "Enter a number to know its factor: 10\n",
            "1\n",
            "2\n",
            "3\n",
            "4\n",
            "5\n",
            "6\n",
            "7\n",
            "8\n",
            "9\n",
            "10\n",
            "[2, 4, 6, 8, 10]\n"
          ]
        }
      ]
    },
    {
      "cell_type": "code",
      "source": [
        "fruits = [\"apple\", \"banana\", \"cherry\", \"mango\"]\n",
        "print(fruits[0:3])\n",
        "fruits.extend([\"orange\" , \"pineapple\" , \"grapes\"])\n",
        "print(fruits)\n",
        "print(fruits[:-2])\n",
        "deltd = fruits.pop(1)\n",
        "print(deltd)\n",
        "print(fruits)"
      ],
      "metadata": {
        "colab": {
          "base_uri": "https://localhost:8080/"
        },
        "id": "zoM5cQsvOmPO",
        "outputId": "f5d7de00-1836-414e-9f46-674e49c539fa"
      },
      "execution_count": null,
      "outputs": [
        {
          "output_type": "stream",
          "name": "stdout",
          "text": [
            "['apple', 'banana', 'cherry']\n",
            "['apple', 'banana', 'cherry', 'mango', 'orange', 'pineapple', 'grapes']\n",
            "['apple', 'banana', 'cherry', 'mango', 'orange']\n",
            "banana\n",
            "['apple', 'cherry', 'mango', 'orange', 'pineapple', 'grapes']\n"
          ]
        }
      ]
    },
    {
      "cell_type": "code",
      "source": [
        "method_of_list = dir(list)\n",
        "print([method for method in method_of_list if not method.startswith(\"__\")])"
      ],
      "metadata": {
        "colab": {
          "base_uri": "https://localhost:8080/"
        },
        "id": "USloqXEBO3CV",
        "outputId": "89b36a12-f710-42ef-d979-65ea1434bd3b"
      },
      "execution_count": null,
      "outputs": [
        {
          "output_type": "stream",
          "name": "stdout",
          "text": [
            "['append', 'clear', 'copy', 'count', 'extend', 'index', 'insert', 'pop', 'remove', 'reverse', 'sort']\n"
          ]
        }
      ]
    },
    {
      "cell_type": "code",
      "source": [
        "num = 1\n",
        "while num <= 10:\n",
        "  print(num , end=\" \")\n",
        "  num += 1\n"
      ],
      "metadata": {
        "colab": {
          "base_uri": "https://localhost:8080/"
        },
        "id": "hJlM0zeMnkEp",
        "outputId": "67c91c83-7da3-4873-c183-5d4de21610b2"
      },
      "execution_count": null,
      "outputs": [
        {
          "output_type": "stream",
          "name": "stdout",
          "text": [
            "1 2 3 4 5 6 7 8 9 10 "
          ]
        }
      ]
    },
    {
      "cell_type": "code",
      "source": [
        "numbers = [3, 1, 4, 1, 5, 9]\n",
        "numbers.sort()\n",
        "print(numbers)"
      ],
      "metadata": {
        "colab": {
          "base_uri": "https://localhost:8080/"
        },
        "id": "7NvgEqqvoM9x",
        "outputId": "ccc68216-bb08-4505-e730-81b6e29d29e5"
      },
      "execution_count": null,
      "outputs": [
        {
          "output_type": "stream",
          "name": "stdout",
          "text": [
            "[1, 1, 3, 4, 5, 9]\n"
          ]
        }
      ]
    },
    {
      "cell_type": "code",
      "source": [
        "number1 = [4, 2, 9, 1]\n",
        "number1.sort(reverse=True)\n",
        "print(number1)"
      ],
      "metadata": {
        "colab": {
          "base_uri": "https://localhost:8080/"
        },
        "id": "3O6Rck9NoglA",
        "outputId": "fbe8521d-c185-4d3d-c5b0-469cbc1d2059"
      },
      "execution_count": null,
      "outputs": [
        {
          "output_type": "stream",
          "name": "stdout",
          "text": [
            "[9, 4, 2, 1]\n"
          ]
        }
      ]
    },
    {
      "cell_type": "code",
      "source": [
        "words = [\"apple\", \"kiwi\", \"banana\"]\n",
        "words.sort(key=len)\n",
        "print(words)"
      ],
      "metadata": {
        "colab": {
          "base_uri": "https://localhost:8080/"
        },
        "id": "-MsvAtvjoqQo",
        "outputId": "227abff1-82bc-4b2e-bb6d-ad93fa195e3b"
      },
      "execution_count": null,
      "outputs": [
        {
          "output_type": "stream",
          "name": "stdout",
          "text": [
            "['kiwi', 'apple', 'banana']\n"
          ]
        }
      ]
    },
    {
      "cell_type": "code",
      "source": [
        "names = [\"Ali\", \"Zara\", \"Hassan\", \"Areeba\", \"Bilal\"]\n",
        "names.sort(key=lambda name:name[-1])\n",
        "print(names)\n",
        "names.reverse()\n",
        "print(names)"
      ],
      "metadata": {
        "colab": {
          "base_uri": "https://localhost:8080/"
        },
        "id": "NtgVSbSCpQvI",
        "outputId": "509bbf17-b124-43ab-a3cf-41c2ed122f96"
      },
      "execution_count": null,
      "outputs": [
        {
          "output_type": "stream",
          "name": "stdout",
          "text": [
            "['Zara', 'Areeba', 'Ali', 'Bilal', 'Hassan']\n",
            "['Hassan', 'Bilal', 'Ali', 'Areeba', 'Zara']\n"
          ]
        }
      ]
    },
    {
      "cell_type": "code",
      "source": [
        "my_tuple = (1,2,3)\n",
        "hashed_value = hash(my_tuple)\n",
        "print(20 in my_tuple)\n",
        "# my_tuple.append(6)\n",
        "indexing = my_tuple.index(2)\n",
        "print(hashed_value)\n",
        "print(indexing)"
      ],
      "metadata": {
        "colab": {
          "base_uri": "https://localhost:8080/"
        },
        "id": "fS5X82wn4-_h",
        "outputId": "af4a02f2-0366-4e78-9a29-0d76d27bd5b4"
      },
      "execution_count": null,
      "outputs": [
        {
          "output_type": "stream",
          "name": "stdout",
          "text": [
            "False\n",
            "529344067295497451\n",
            "1\n"
          ]
        }
      ]
    },
    {
      "cell_type": "code",
      "source": [
        "student = {\n",
        "    \"name\": \"hina\",\n",
        "    \"class\" : 4\n",
        "}\n",
        "student_class = student.get(\"class\")\n",
        "print(student_class)\n",
        "student[\"phone_number\"] = '+923402195735'\n",
        "student[\"address\"] = 'korangi town karachi'\n",
        "print(student)\n",
        "del student[\"class\"]\n",
        "print(\"deleted class: \" , student)\n",
        "delete_address = student.pop(\"address\")\n",
        "print(\"deleted address: \" , student)\n",
        "student[\"age\"] = 15\n",
        "print(student.get(\"age\" , -1))\n",
        "print(student.keys())\n",
        "print(student.values())\n",
        "print(student.items())\n",
        "student.update({\"age\" : 28})\n",
        "print(student)\n",
        "student.clear()\n",
        "print(student)\n"
      ],
      "metadata": {
        "colab": {
          "base_uri": "https://localhost:8080/"
        },
        "id": "zli7S6STWsm0",
        "outputId": "332a0113-4c97-4b70-d506-6741c7ba356f"
      },
      "execution_count": null,
      "outputs": [
        {
          "output_type": "stream",
          "name": "stdout",
          "text": [
            "4\n",
            "{'name': 'hina', 'class': 4, 'phone_number': '+923402195735', 'address': 'korangi town karachi'}\n",
            "deleted class:  {'name': 'hina', 'phone_number': '+923402195735', 'address': 'korangi town karachi'}\n",
            "deleted address:  {'name': 'hina', 'phone_number': '+923402195735'}\n",
            "15\n",
            "dict_keys(['name', 'phone_number', 'age'])\n",
            "dict_values(['hina', '+923402195735', 15])\n",
            "dict_items([('name', 'hina'), ('phone_number', '+923402195735'), ('age', 15)])\n",
            "{'name': 'hina', 'phone_number': '+923402195735', 'age': 28}\n",
            "{}\n"
          ]
        }
      ]
    },
    {
      "cell_type": "code",
      "source": [
        "phonebook = {\n",
        "    \"John\": \"555-1234\",\n",
        "    \"Emma\": \"555-5678\",\n",
        "    \"Liam\": \"555-8765\",\n",
        "    \"Olivia\": \"555-4321\",\n",
        "    \"Sophia\": \"555-1357\"\n",
        "}\n",
        "\n",
        "\n",
        "name = input(\"Enter a name to search: \")\n",
        "\n",
        "for key in phonebook:\n",
        "    if key.lower()==name:\n",
        "      print(f\"{key}'s phone number is {phonebook[key]}.\")\n",
        "      break\n",
        "else:\n",
        "    print(f\"{name} is not in the phonebook.\")\n",
        "\n",
        "print (key in phonebook )"
      ],
      "metadata": {
        "colab": {
          "base_uri": "https://localhost:8080/"
        },
        "id": "anLvACwEfoN-",
        "outputId": "351e4270-780e-42a7-a28c-30c7484f00f1"
      },
      "execution_count": 53,
      "outputs": [
        {
          "output_type": "stream",
          "name": "stdout",
          "text": [
            "Enter a name to search: emma\n",
            "Emma's phone number is 555-5678.\n",
            "True\n"
          ]
        }
      ]
    },
    {
      "cell_type": "code",
      "source": [
        "sentence = \"\"\"\n",
        "**Projected Economy Size of AI:**\n",
        "\n",
        "The projected economy size of AI is significant, with estimates varying depending on the source and methodology. Here are some notable projections:\n",
        "\n",
        "1. **Global AI Market Size:**\n",
        "\t* By 2025: $190 billion (Source: MarketsandMarkets)\n",
        "\t* By 2030: $1.5 trillion (Source: PwC)\n",
        "2. **AI-Driven Economic Growth:**\n",
        "\t* By 2025: AI is expected to contribute 10% to global GDP growth (Source: Accenture)\n",
        "\t* By 2030: AI is expected to contribute 14% to global GDP growth (Source: PwC)\n",
        "3. **AI-Generated Revenue:**\n",
        "\t* By 2025: AI is expected to generate $15.7 trillion in revenue (Source: IDC)\n",
        "\t* By 2030: AI is expected to generate $33.5 trillion in revenue (Source: McKinsey)\n",
        "4. **Job Market Impact:**\n",
        "\t* By 2025: AI is expected to create 133 million new jobs globally (Source: World Economic Forum)\n",
        "\t* By 2030: AI is expected to automate 30% of current jobs globally (Source: McKinsey)\n",
        "\n",
        "**Industry-Specific Projections:**\n",
        "\n",
        "1. **Healthcare:**\n",
        "\t* By 2025: AI is expected to generate $150 billion in revenue (Source: MarketsandMarkets)\n",
        "2. **Financial Services:**\n",
        "\t* By 2025: AI is expected to generate $100 billion in revenue (Source: Accenture)\n",
        "3. **Manufacturing:**\n",
        "\t* By 2025: AI is expected to generate $50 billion in revenue (Source: IDC)\n",
        "4. **Transportation:**\n",
        "\t* By 2025: AI is expected to generate $20 billion in revenue (Source: MarketsandMarkets)\n",
        "\n",
        "**Regional Projections:**\n",
        "\n",
        "1. **North America:**\n",
        "\t* By 2025: AI is expected to generate $100 billion in revenue (Source: MarketsandMarkets)\n",
        "2. **Europe:**\n",
        "\t* By 2025: AI is expected to generate $50 billion in revenue (Source: IDC)\n",
        "3. **Asia-Pacific:**\n",
        "\t* By 2025: AI is expected to generate $200 billion in revenue (Source: MarketsandMarkets)\n",
        "\n",
        "Note: These projections are based on various assumptions, including the pace of AI development, adoption rates, and economic trends. The actual economy size of AI may vary depending on several factors.\n",
        "\n",
        "\"\"\"\n",
        "words = sentence.split()\n",
        "# print(words)\n",
        "word_count = {}\n",
        "for word in words:\n",
        "  # print(word)\n",
        "  if word in word_count:\n",
        "    word_count[word] += 1\n",
        "  else:\n",
        "    word_count[word] = 1\n",
        "print(word_count)"
      ],
      "metadata": {
        "colab": {
          "base_uri": "https://localhost:8080/"
        },
        "id": "pAd0vzzejI_x",
        "outputId": "e91ec79e-168f-4e58-e5c2-9ddaaf7bfa69"
      },
      "execution_count": 63,
      "outputs": [
        {
          "output_type": "stream",
          "name": "stdout",
          "text": [
            "{'**Projected': 1, 'Economy': 1, 'Size': 1, 'of': 5, 'AI:**': 1, 'The': 2, 'projected': 1, 'economy': 2, 'size': 2, 'AI': 17, 'is': 14, 'significant,': 1, 'with': 1, 'estimates': 1, 'varying': 1, 'depending': 2, 'on': 3, 'the': 2, 'source': 1, 'and': 2, 'methodology.': 1, 'Here': 1, 'are': 2, 'some': 1, 'notable': 1, 'projections:': 1, '1.': 3, '**Global': 1, 'Market': 2, 'Size:**': 1, '*': 15, 'By': 15, '2025:': 11, '$190': 1, 'billion': 8, '(Source:': 15, 'MarketsandMarkets)': 5, '2030:': 4, '$1.5': 1, 'trillion': 3, 'PwC)': 2, '2.': 3, '**AI-Driven': 1, 'Economic': 2, 'Growth:**': 1, 'expected': 13, 'to': 15, 'contribute': 2, '10%': 1, 'global': 2, 'GDP': 2, 'growth': 2, 'Accenture)': 2, '14%': 1, '3.': 3, '**AI-Generated': 1, 'Revenue:**': 1, 'generate': 9, '$15.7': 1, 'in': 9, 'revenue': 9, 'IDC)': 3, '$33.5': 1, 'McKinsey)': 2, '4.': 2, '**Job': 1, 'Impact:**': 1, 'create': 1, '133': 1, 'million': 1, 'new': 1, 'jobs': 2, 'globally': 2, 'World': 1, 'Forum)': 1, 'automate': 1, '30%': 1, 'current': 1, '**Industry-Specific': 1, 'Projections:**': 2, '**Healthcare:**': 1, '$150': 1, '**Financial': 1, 'Services:**': 1, '$100': 2, '**Manufacturing:**': 1, '$50': 2, '**Transportation:**': 1, '$20': 1, '**Regional': 1, '**North': 1, 'America:**': 1, '**Europe:**': 1, '**Asia-Pacific:**': 1, '$200': 1, 'Note:': 1, 'These': 1, 'projections': 1, 'based': 1, 'various': 1, 'assumptions,': 1, 'including': 1, 'pace': 1, 'development,': 1, 'adoption': 1, 'rates,': 1, 'economic': 1, 'trends.': 1, 'actual': 1, 'may': 1, 'vary': 1, 'several': 1, 'factors.': 1}\n"
          ]
        }
      ]
    },
    {
      "cell_type": "markdown",
      "source": [
        "Always use get() or check if the key exists with in to avoid error."
      ],
      "metadata": {
        "id": "190-kZgzrNTL"
      }
    }
  ]
}