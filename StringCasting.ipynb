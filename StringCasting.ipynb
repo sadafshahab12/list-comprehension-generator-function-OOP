{
  "nbformat": 4,
  "nbformat_minor": 0,
  "metadata": {
    "colab": {
      "provenance": [],
      "authorship_tag": "ABX9TyMbatvWPOyFFg7nEdbzOC17",
      "include_colab_link": true
    },
    "kernelspec": {
      "name": "python3",
      "display_name": "Python 3"
    },
    "language_info": {
      "name": "python"
    }
  },
  "cells": [
    {
      "cell_type": "markdown",
      "metadata": {
        "id": "view-in-github",
        "colab_type": "text"
      },
      "source": [
        "<a href=\"https://colab.research.google.com/github/sadafshahab12/list-comprehension-generator-function-OOP/blob/main/StringCasting.ipynb\" target=\"_parent\"><img src=\"https://colab.research.google.com/assets/colab-badge.svg\" alt=\"Open In Colab\"/></a>"
      ]
    },
    {
      "cell_type": "code",
      "execution_count": null,
      "metadata": {
        "colab": {
          "base_uri": "https://localhost:8080/"
        },
        "id": "LhkuO0K3blIt",
        "outputId": "f4475f11-94ed-4167-bba8-0c0421a2d879"
      },
      "outputs": [
        {
          "output_type": "stream",
          "name": "stdout",
          "text": [
            "\\u0041 =  A\n"
          ]
        }
      ],
      "source": [
        "print(r\"\\u0041 = \", \"\\u0041\")"
      ]
    },
    {
      "cell_type": "code",
      "source": [
        "asking_to = \"sadaf shahab where are you!\"\n",
        "print(asking_to)\n",
        "splitted = asking_to.split()\n",
        "print(\" \".join(splitted))\n",
        "\n",
        "country  = \"pakistan\"\n",
        "splittedCountry = country.split()\n",
        "print(splittedCountry)\n",
        "print(', '.join(splittedCountry[0]))\n"
      ],
      "metadata": {
        "colab": {
          "base_uri": "https://localhost:8080/"
        },
        "id": "dkimqdieckit",
        "outputId": "84046949-64e0-4912-e1d3-bd66666f1b27"
      },
      "execution_count": null,
      "outputs": [
        {
          "output_type": "stream",
          "name": "stdout",
          "text": [
            "sadaf shahab where are you!\n",
            "sadaf shahab where are you!\n",
            "['pakistan']\n",
            "p, a, k, i, s, t, a, n\n"
          ]
        }
      ]
    },
    {
      "cell_type": "code",
      "source": [
        "my_string: str = \"Hello, World! Hello, Pakistan\"\n",
        "findIndex = my_string.find(\"Hello\")\n",
        "print(findIndex)"
      ],
      "metadata": {
        "colab": {
          "base_uri": "https://localhost:8080/"
        },
        "id": "MARpGlTLgTFL",
        "outputId": "686fea23-3c40-409f-c4a5-8b7864869d42"
      },
      "execution_count": null,
      "outputs": [
        {
          "output_type": "stream",
          "name": "stdout",
          "text": [
            "0\n"
          ]
        }
      ]
    },
    {
      "cell_type": "code",
      "source": [
        "my_string: str = \"Hello, World! Hello, Pakistan\"\n",
        "startingIndex  = my_string.find(\"Hello\")\n",
        "startingIndex2 = startingIndex + len(\"Hello\")\n",
        "print(startingIndex2)\n",
        "print(my_string[startingIndex2:])\n",
        "print(my_string[startingIndex2:].find(\"Hello\"))\n",
        "\n",
        "count_occurence = my_string.count(\"Hello\")\n",
        "print(count_occurence)"
      ],
      "metadata": {
        "colab": {
          "base_uri": "https://localhost:8080/"
        },
        "id": "NrY8VnuAgpry",
        "outputId": "09c02ef1-603d-4468-9738-a0610bea77ca"
      },
      "execution_count": null,
      "outputs": [
        {
          "output_type": "stream",
          "name": "stdout",
          "text": [
            "5\n",
            ", World! Hello, Pakistan\n",
            "9\n",
            "2\n"
          ]
        }
      ]
    },
    {
      "cell_type": "code",
      "source": [
        "name = \"Sadaf\"\n",
        "print('''my name is %s''' % (name))"
      ],
      "metadata": {
        "colab": {
          "base_uri": "https://localhost:8080/"
        },
        "id": "bqQNhsqi9DgI",
        "outputId": "621f0536-0956-4a1e-8bc0-60c9e01e3d16"
      },
      "execution_count": null,
      "outputs": [
        {
          "output_type": "stream",
          "name": "stdout",
          "text": [
            "my name is Sadaf\n"
          ]
        }
      ]
    },
    {
      "cell_type": "code",
      "source": [
        "full_name = \"Sadaf Shahab\"\n",
        "age = 12\n",
        "string_format = \"My name is {} and I am {} years old.\".format(full_name, age)\n",
        "print(string_format)"
      ],
      "metadata": {
        "colab": {
          "base_uri": "https://localhost:8080/"
        },
        "id": "BlQ7Dv5a_taO",
        "outputId": "e8ade315-0c15-4ea9-ecba-29ab59392d6e"
      },
      "execution_count": null,
      "outputs": [
        {
          "output_type": "stream",
          "name": "stdout",
          "text": [
            "My name is Sadaf Shahab and I am 12 years old.\n"
          ]
        }
      ]
    },
    {
      "cell_type": "code",
      "source": [
        "string_method = dir(str)\n",
        "filtered_by_loop = ([method for method in string_method if not method.startswith(\"__\")])\n",
        "print(filtered_by_loop)"
      ],
      "metadata": {
        "colab": {
          "base_uri": "https://localhost:8080/"
        },
        "id": "Nzgxh7SbH_MB",
        "outputId": "43e8e473-5027-45b6-b3ad-95afc7a2bbe1"
      },
      "execution_count": null,
      "outputs": [
        {
          "output_type": "stream",
          "name": "stdout",
          "text": [
            "['capitalize', 'casefold', 'center', 'count', 'encode', 'endswith', 'expandtabs', 'find', 'format', 'format_map', 'index', 'isalnum', 'isalpha', 'isascii', 'isdecimal', 'isdigit', 'isidentifier', 'islower', 'isnumeric', 'isprintable', 'isspace', 'istitle', 'isupper', 'join', 'ljust', 'lower', 'lstrip', 'maketrans', 'partition', 'removeprefix', 'removesuffix', 'replace', 'rfind', 'rindex', 'rjust', 'rpartition', 'rsplit', 'rstrip', 'split', 'splitlines', 'startswith', 'strip', 'swapcase', 'title', 'translate', 'upper', 'zfill']\n"
          ]
        }
      ]
    },
    {
      "cell_type": "code",
      "source": [
        "print(\"-\" * 100)"
      ],
      "metadata": {
        "colab": {
          "base_uri": "https://localhost:8080/"
        },
        "id": "XJJzLEjqK8uE",
        "outputId": "43567758-0eff-455c-8ce0-c3328db5b318"
      },
      "execution_count": null,
      "outputs": [
        {
          "output_type": "stream",
          "name": "stdout",
          "text": [
            "----------------------------------------------------------------------------------------------------\n"
          ]
        }
      ]
    },
    {
      "cell_type": "code",
      "source": [
        "num_str: str = \"3.15\"\n",
        "num_float = int(num_str) # skipped type hint to see what data type is assigned at runtime\n",
        "print(num_float, type(num_float))"
      ],
      "metadata": {
        "colab": {
          "base_uri": "https://localhost:8080/",
          "height": 181
        },
        "id": "LLXCUJWzhbWf",
        "outputId": "f5fdb44b-0234-4405-f0a8-806bf426d123"
      },
      "execution_count": null,
      "outputs": [
        {
          "output_type": "error",
          "ename": "ValueError",
          "evalue": "invalid literal for int() with base 10: '3.15'",
          "traceback": [
            "\u001b[0;31m---------------------------------------------------------------------------\u001b[0m",
            "\u001b[0;31mValueError\u001b[0m                                Traceback (most recent call last)",
            "\u001b[0;32m<ipython-input-5-6d37c0dba12e>\u001b[0m in \u001b[0;36m<cell line: 0>\u001b[0;34m()\u001b[0m\n\u001b[1;32m      1\u001b[0m \u001b[0mnum_str\u001b[0m\u001b[0;34m:\u001b[0m \u001b[0mstr\u001b[0m \u001b[0;34m=\u001b[0m \u001b[0;34m\"3.15\"\u001b[0m\u001b[0;34m\u001b[0m\u001b[0;34m\u001b[0m\u001b[0m\n\u001b[0;32m----> 2\u001b[0;31m \u001b[0mnum_float\u001b[0m \u001b[0;34m=\u001b[0m \u001b[0mint\u001b[0m\u001b[0;34m(\u001b[0m\u001b[0mnum_str\u001b[0m\u001b[0;34m)\u001b[0m \u001b[0;31m# skipped type hint to see what data type is assigned at runtime\u001b[0m\u001b[0;34m\u001b[0m\u001b[0;34m\u001b[0m\u001b[0m\n\u001b[0m\u001b[1;32m      3\u001b[0m \u001b[0mprint\u001b[0m\u001b[0;34m(\u001b[0m\u001b[0mnum_float\u001b[0m\u001b[0;34m,\u001b[0m \u001b[0mtype\u001b[0m\u001b[0;34m(\u001b[0m\u001b[0mnum_float\u001b[0m\u001b[0;34m)\u001b[0m\u001b[0;34m)\u001b[0m\u001b[0;34m\u001b[0m\u001b[0;34m\u001b[0m\u001b[0m\n",
            "\u001b[0;31mValueError\u001b[0m: invalid literal for int() with base 10: '3.15'"
          ]
        }
      ]
    },
    {
      "cell_type": "code",
      "source": [
        "print(\"bool(1) = \", bool(-1))"
      ],
      "metadata": {
        "colab": {
          "base_uri": "https://localhost:8080/"
        },
        "id": "ZrIGlRqnhx5W",
        "outputId": "297929f8-74b3-4215-8cca-42f5af50007d"
      },
      "execution_count": null,
      "outputs": [
        {
          "output_type": "stream",
          "name": "stdout",
          "text": [
            "bool(1) =  True\n"
          ]
        }
      ]
    },
    {
      "cell_type": "code",
      "source": [
        "tup: tuple = (1, 2.7, 3, 'OB')\n",
        "lst = list(tup) # skipped type hint to see what data type is assigned at runtime\n",
        "print(lst, type(lst))"
      ],
      "metadata": {
        "colab": {
          "base_uri": "https://localhost:8080/"
        },
        "id": "sSyAYbWNiGnW",
        "outputId": "4a32578c-9b8d-4174-8712-02e50dcbc92e"
      },
      "execution_count": null,
      "outputs": [
        {
          "output_type": "stream",
          "name": "stdout",
          "text": [
            "[1, 2.7, 3, 'OB'] <class 'list'>\n"
          ]
        }
      ]
    },
    {
      "cell_type": "code",
      "source": [
        "num = \"25\"\n",
        "conversion = int(num)\n",
        "print(conversion +10)"
      ],
      "metadata": {
        "colab": {
          "base_uri": "https://localhost:8080/"
        },
        "id": "mpUYn84ziTUN",
        "outputId": "c8e8b7b5-6b07-4a8b-9fdf-3798a62696a5"
      },
      "execution_count": null,
      "outputs": [
        {
          "output_type": "stream",
          "name": "stdout",
          "text": [
            "35\n"
          ]
        }
      ]
    },
    {
      "cell_type": "code",
      "source": [
        "num1 = 19.99\n",
        "convert = int(num1)\n",
        "print(convert)"
      ],
      "metadata": {
        "colab": {
          "base_uri": "https://localhost:8080/"
        },
        "id": "S_Nysk9-idQl",
        "outputId": "f8ba1641-0d52-4183-c293-af53c4309f1f"
      },
      "execution_count": null,
      "outputs": [
        {
          "output_type": "stream",
          "name": "stdout",
          "text": [
            "19\n"
          ]
        }
      ]
    },
    {
      "cell_type": "code",
      "source": [
        "age = 30\n",
        "age_str = str(age)\n",
        "print( age_str + \" years old\")"
      ],
      "metadata": {
        "colab": {
          "base_uri": "https://localhost:8080/"
        },
        "id": "y8Gj8pVmipcR",
        "outputId": "4d4d4569-21a5-4ad7-9ebd-0b471f1d9cd8"
      },
      "execution_count": null,
      "outputs": [
        {
          "output_type": "stream",
          "name": "stdout",
          "text": [
            "30 years old\n"
          ]
        }
      ]
    },
    {
      "cell_type": "code",
      "source": [
        "flag = True\n",
        "bool_to_int = int(flag)\n",
        "print(bool_to_int)"
      ],
      "metadata": {
        "colab": {
          "base_uri": "https://localhost:8080/"
        },
        "id": "ceyMkgx3i0oc",
        "outputId": "c439bf19-e6c9-4921-d8ff-29df684a8d59"
      },
      "execution_count": null,
      "outputs": [
        {
          "output_type": "stream",
          "name": "stdout",
          "text": [
            "1\n"
          ]
        }
      ]
    },
    {
      "cell_type": "code",
      "source": [
        "str_numbers = [\"1\", \"2\", \"3\", \"4\"]\n",
        "str_int = [int(num) for num in str_numbers]\n",
        "print(str_int)"
      ],
      "metadata": {
        "colab": {
          "base_uri": "https://localhost:8080/"
        },
        "id": "b2SCawROjAv8",
        "outputId": "effe798b-e773-4d03-eaef-3e5ba4ef63f2"
      },
      "execution_count": null,
      "outputs": [
        {
          "output_type": "stream",
          "name": "stdout",
          "text": [
            "[1, 2, 3, 4]\n"
          ]
        }
      ]
    },
    {
      "cell_type": "code",
      "source": [
        "word = \"Straße\"\n",
        "words= word.casefold()\n",
        "print(words)"
      ],
      "metadata": {
        "colab": {
          "base_uri": "https://localhost:8080/"
        },
        "id": "D93VN_zDdETt",
        "outputId": "fdcd0541-30ff-4c01-d538-1f44f83e1f5b"
      },
      "execution_count": 3,
      "outputs": [
        {
          "output_type": "stream",
          "name": "stdout",
          "text": [
            "strasse\n"
          ]
        }
      ]
    },
    {
      "cell_type": "code",
      "source": [
        "animal = \"cat\"\n",
        "thing = \"sun\"\n",
        "centered = animal.center(80, \"-\")\n",
        "centered_sun = thing.center(9, \"*\")\n",
        "print(centered)\n",
        "print(centered_sun)"
      ],
      "metadata": {
        "colab": {
          "base_uri": "https://localhost:8080/"
        },
        "id": "wThEnKQ_d5ee",
        "outputId": "a0e4315e-97ba-490a-d785-389afa3704ad"
      },
      "execution_count": 7,
      "outputs": [
        {
          "output_type": "stream",
          "name": "stdout",
          "text": [
            "--------------------------------------cat---------------------------------------\n",
            "***sun***\n"
          ]
        }
      ]
    },
    {
      "cell_type": "code",
      "source": [
        "fruit = \"apple\"\n",
        "count_substr= fruit.count(\"p\")\n",
        "new_str = \"This is Mississippi\"\n",
        "count_sub_str = new_str.count(\"is\")\n",
        "print(count_sub_str)\n",
        "print(count_substr)"
      ],
      "metadata": {
        "colab": {
          "base_uri": "https://localhost:8080/"
        },
        "id": "KKzMiz1iei-8",
        "outputId": "0e7cdb26-8451-453e-e553-4e515e68f90a"
      },
      "execution_count": 11,
      "outputs": [
        {
          "output_type": "stream",
          "name": "stdout",
          "text": [
            "4\n",
            "2\n"
          ]
        }
      ]
    },
    {
      "cell_type": "code",
      "source": [
        "print(\"Hello\".encode()))"
      ],
      "metadata": {
        "colab": {
          "base_uri": "https://localhost:8080/"
        },
        "id": "zuppH2cte_Xz",
        "outputId": "cc4b5b6d-832b-4ff8-8ad9-529d317dbe0d"
      },
      "execution_count": 13,
      "outputs": [
        {
          "output_type": "stream",
          "name": "stdout",
          "text": [
            "b'Hello'\n"
          ]
        }
      ]
    },
    {
      "cell_type": "code",
      "source": [
        "print(\"photo.jpg\".endswith(\".jpg\"))"
      ],
      "metadata": {
        "colab": {
          "base_uri": "https://localhost:8080/"
        },
        "id": "wFBUZbFZfN2a",
        "outputId": "55ae4b31-f331-49ab-c72c-df4edafc87ee"
      },
      "execution_count": 17,
      "outputs": [
        {
          "output_type": "stream",
          "name": "stdout",
          "text": [
            "True\n"
          ]
        }
      ]
    },
    {
      "cell_type": "code",
      "source": [
        "print(\"1\\t2\\t3\".expandtabs(20))"
      ],
      "metadata": {
        "colab": {
          "base_uri": "https://localhost:8080/"
        },
        "id": "hSu3lDA1fl8C",
        "outputId": "413e74b2-aa24-4806-d18e-c862511c2176"
      },
      "execution_count": 21,
      "outputs": [
        {
          "output_type": "stream",
          "name": "stdout",
          "text": [
            "1                   2                   3\n"
          ]
        }
      ]
    },
    {
      "cell_type": "code",
      "source": [
        "map_formating = \"{name} is {age}\".format_map({\"name\": \"John\" , \"age\": 23})\n",
        "print(map_formating)"
      ],
      "metadata": {
        "colab": {
          "base_uri": "https://localhost:8080/"
        },
        "id": "XMbKvbQNgHCa",
        "outputId": "a2f9eee1-aa7b-4af0-d4f5-7cb6971be7a2"
      },
      "execution_count": 23,
      "outputs": [
        {
          "output_type": "stream",
          "name": "stdout",
          "text": [
            "John is 23\n"
          ]
        }
      ]
    },
    {
      "cell_type": "code",
      "source": [
        "empty_string = \"Test\" * 0\n",
        "print(empty_string)"
      ],
      "metadata": {
        "id": "T8gM1nHLzDvl"
      },
      "execution_count": null,
      "outputs": []
    },
    {
      "cell_type": "code",
      "source": [
        "lst = [1, 2, 2, 3, 4, 4, 5, \"Agentic AI\"]\n",
        "my_set = set(lst)\n",
        "print(my_set)"
      ],
      "metadata": {
        "colab": {
          "base_uri": "https://localhost:8080/"
        },
        "id": "k1HZAeXvaUmv",
        "outputId": "bed80640-33ed-495f-b82d-4736dfc52f88"
      },
      "execution_count": 1,
      "outputs": [
        {
          "output_type": "stream",
          "name": "stdout",
          "text": [
            "{1, 2, 3, 4, 5, 'Agentic AI'}\n"
          ]
        }
      ]
    },
    {
      "cell_type": "code",
      "source": [
        "lists = [(\"name\" , \"Sadaf\") , (\"age\" , \"15\")]\n",
        "lst_to_dict = dict(lists)\n",
        "print(lst_to_dict, type(lst_to_dict))"
      ],
      "metadata": {
        "colab": {
          "base_uri": "https://localhost:8080/"
        },
        "id": "BJwn5PU1aviH",
        "outputId": "a2e8a66f-126b-4afa-8394-3d6a31fc0704"
      },
      "execution_count": 3,
      "outputs": [
        {
          "output_type": "stream",
          "name": "stdout",
          "text": [
            "{'name': 'Sadaf', 'age': '15'} <class 'dict'>\n"
          ]
        }
      ]
    },
    {
      "cell_type": "code",
      "source": [
        "num1 = 5\n",
        "comp = complex(num1)\n",
        "print(comp, type(comp))"
      ],
      "metadata": {
        "colab": {
          "base_uri": "https://localhost:8080/"
        },
        "id": "RrxamDtDbEtW",
        "outputId": "7049a77b-7995-4c30-8738-06b2e0153489"
      },
      "execution_count": 4,
      "outputs": [
        {
          "output_type": "stream",
          "name": "stdout",
          "text": [
            "(5+0j) <class 'complex'>\n"
          ]
        }
      ]
    }
  ]
}